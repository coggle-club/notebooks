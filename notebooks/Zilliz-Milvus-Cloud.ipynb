{
 "cells": [
  {
   "cell_type": "code",
   "execution_count": 19,
   "id": "9a08d016-af2a-4681-bc7c-9ab41fb790ff",
   "metadata": {},
   "outputs": [],
   "source": [
    "from pymilvus import MilvusClient\n",
    "from pymilvus import connections, MilvusClient, DataType\n",
    "from pymilvus import AnnSearchRequest\n",
    "\n",
    "# 云端向量数据库\n",
    "CLUSTER_ENDPOINT = \"https://in03-5cb3b56f3af9ebc.serverless.ali-cn-hangzhou.cloud.zilliz.com.cn\"\n",
    "TOKEN = \"9027d285f74e5ce113bf24162fc5cabe04b67db3ee25055f4748ea23785f00d0fa9b8217c108a04dc77c4a703b5860a7d39d7a7b\"\n",
    "\n",
    "client = MilvusClient(\n",
    "    uri=CLUSTER_ENDPOINT,\n",
    "    token=TOKEN \n",
    ")"
   ]
  },
  {
   "cell_type": "code",
   "execution_count": 111,
   "id": "67437782-56b1-4c27-ab38-aa1f61c028b5",
   "metadata": {},
   "outputs": [
    {
     "data": {
      "text/plain": [
       "['rag_demo']"
      ]
     },
     "execution_count": 111,
     "metadata": {},
     "output_type": "execute_result"
    }
   ],
   "source": [
    "client.list_collections()"
   ]
  },
  {
   "cell_type": "code",
   "execution_count": null,
   "id": "0b6bd4bd-41e8-4956-86a6-4e6f3cacee19",
   "metadata": {},
   "outputs": [],
   "source": [
    "client.drop_collection(collection_name=\"rag_demo\")"
   ]
  },
  {
   "cell_type": "markdown",
   "id": "c206b9df-9b46-4a87-b420-d982289b5d71",
   "metadata": {},
   "source": [
    "## 基础案例"
   ]
  },
  {
   "cell_type": "code",
   "execution_count": 3,
   "id": "b19fadcb-a6f0-4175-9534-334571c8bee4",
   "metadata": {},
   "outputs": [
    {
     "data": {
      "text/plain": [
       "['rag_demo']"
      ]
     },
     "execution_count": 3,
     "metadata": {},
     "output_type": "execute_result"
    }
   ],
   "source": [
    "schema = MilvusClient.create_schema(\n",
    "    auto_id=True,\n",
    "    enable_dynamic_field=True,\n",
    ")\n",
    "schema.add_field(field_name=\"id\", datatype=DataType.INT64, is_primary=True)\n",
    "schema.add_field(field_name=\"pdf_title\", datatype=DataType.VARCHAR, max_length=128) # pdf的标题\n",
    "schema.add_field(field_name=\"page_idx\", datatype=DataType.INT16) # pdf页码\n",
    "schema.add_field(field_name=\"vector\", datatype=DataType.FLOAT_VECTOR, dim=512) # pdf语义特征向量\n",
    "\n",
    "index_params = MilvusClient.prepare_index_params()\n",
    "index_params.add_index(\n",
    "    field_name=\"vector\",\n",
    "    metric_type=\"COSINE\",\n",
    "    index_type=\"AUTOINDEX\",\n",
    "    index_name=\"vector_index\"\n",
    ")\n",
    "\n",
    "client.create_collection(\n",
    "    collection_name=\"rag_demo\", \n",
    "    schema=schema, \n",
    ")"
   ]
  },
  {
   "cell_type": "code",
   "execution_count": 13,
   "id": "2c388674-c097-4e60-8d9a-b722a973a85d",
   "metadata": {},
   "outputs": [],
   "source": [
    "for idx in range(100):\n",
    "    res = client.insert(\n",
    "        collection_name=\"rag_demo\",\n",
    "        data=[\n",
    "            {\n",
    "                \"pdf_title\": \"test-\" + str(idx),\n",
    "                \"page_idx\": 0,\n",
    "                \"vector\": [0] * 512\n",
    "            }\n",
    "        ]\n",
    "    )"
   ]
  },
  {
   "cell_type": "code",
   "execution_count": 14,
   "id": "c1850e55-ad95-42c7-8d59-bc3cbfec3ca4",
   "metadata": {},
   "outputs": [
    {
     "data": {
      "text/plain": [
       "data: [\"[{'id': 452810533752390429, 'distance': 0.0, 'entity': {'pdf_title': 'test-0'}}, {'id': 452810533752388407, 'distance': 0.0, 'entity': {'pdf_title': 'test-0'}}, {'id': 452810533752388387, 'distance': 0.0, 'entity': {'pdf_title': 'test-0'}}, {'id': 452810533752388367, 'distance': 0.0, 'entity': {'pdf_title': 'test-0'}}, {'id': 454417515764655219, 'distance': 0.0, 'entity': {'pdf_title': 'test-90'}}, {'id': 454417515763884124, 'distance': 0.0, 'entity': {'pdf_title': 'test-80'}}, {'id': 454417515763884102, 'distance': 0.0, 'entity': {'pdf_title': 'test-70'}}, {'id': 454417515763884082, 'distance': 0.0, 'entity': {'pdf_title': 'test-60'}}, {'id': 454417515764655112, 'distance': 0.0, 'entity': {'pdf_title': 'test-50'}}, {'id': 454417515764655090, 'distance': 0.0, 'entity': {'pdf_title': 'test-40'}}, {'id': 454417515764655070, 'distance': 0.0, 'entity': {'pdf_title': 'test-30'}}, {'id': 454417515764655048, 'distance': 0.0, 'entity': {'pdf_title': 'test-20'}}, {'id': 454417515764655024, 'distance': 0.0, 'entity': {'pdf_title': 'test-10'}}, {'id': 454417515764655000, 'distance': 0.0, 'entity': {'pdf_title': 'test-0'}}, {'id': 454417515763621016, 'distance': 0.0, 'entity': {'pdf_title': 'test-0'}}]\"] , extra_info: {'cost': 6}"
      ]
     },
     "execution_count": 14,
     "metadata": {},
     "output_type": "execute_result"
    }
   ],
   "source": [
    "query_vector = [0] * 512\n",
    "\n",
    "res = client.search(\n",
    "    collection_name=\"rag_demo\",\n",
    "    data=[query_vector],\n",
    "    limit=30,\n",
    "    filter='pdf_title like \"%0\"',\n",
    "    output_fields=[\"pdf_title\"]\n",
    "\n",
    ")\n",
    "res"
   ]
  },
  {
   "cell_type": "code",
   "execution_count": 11,
   "id": "330d9a9a-3940-4310-a7a8-390d76e34c48",
   "metadata": {},
   "outputs": [
    {
     "data": {
      "text/plain": [
       "data: [\"{'id': 452810533752388407, 'pdf_title': 'test-0', 'page_idx': 0, 'vector': [0.0, 0.0, 0.0, 0.0, 0.0, 0.0, 0.0, 0.0, 0.0, 0.0, 0.0, 0.0, 0.0, 0.0, 0.0, 0.0, 0.0, 0.0, 0.0, 0.0, 0.0, 0.0, 0.0, 0.0, 0.0, 0.0, 0.0, 0.0, 0.0, 0.0, 0.0, 0.0, 0.0, 0.0, 0.0, 0.0, 0.0, 0.0, 0.0, 0.0, 0.0, 0.0, 0.0, 0.0, 0.0, 0.0, 0.0, 0.0, 0.0, 0.0, 0.0, 0.0, 0.0, 0.0, 0.0, 0.0, 0.0, 0.0, 0.0, 0.0, 0.0, 0.0, 0.0, 0.0, 0.0, 0.0, 0.0, 0.0, 0.0, 0.0, 0.0, 0.0, 0.0, 0.0, 0.0, 0.0, 0.0, 0.0, 0.0, 0.0, 0.0, 0.0, 0.0, 0.0, 0.0, 0.0, 0.0, 0.0, 0.0, 0.0, 0.0, 0.0, 0.0, 0.0, 0.0, 0.0, 0.0, 0.0, 0.0, 0.0, 0.0, 0.0, 0.0, 0.0, 0.0, 0.0, 0.0, 0.0, 0.0, 0.0, 0.0, 0.0, 0.0, 0.0, 0.0, 0.0, 0.0, 0.0, 0.0, 0.0, 0.0, 0.0, 0.0, 0.0, 0.0, 0.0, 0.0, 0.0, 0.0, 0.0, 0.0, 0.0, 0.0, 0.0, 0.0, 0.0, 0.0, 0.0, 0.0, 0.0, 0.0, 0.0, 0.0, 0.0, 0.0, 0.0, 0.0, 0.0, 0.0, 0.0, 0.0, 0.0, 0.0, 0.0, 0.0, 0.0, 0.0, 0.0, 0.0, 0.0, 0.0, 0.0, 0.0, 0.0, 0.0, 0.0, 0.0, 0.0, 0.0, 0.0, 0.0, 0.0, 0.0, 0.0, 0.0, 0.0, 0.0, 0.0, 0.0, 0.0, 0.0, 0.0, 0.0, 0.0, 0.0, 0.0, 0.0, 0.0, 0.0, 0.0, 0.0, 0.0, 0.0, 0.0, 0.0, 0.0, 0.0, 0.0, 0.0, 0.0, 0.0, 0.0, 0.0, 0.0, 0.0, 0.0, 0.0, 0.0, 0.0, 0.0, 0.0, 0.0, 0.0, 0.0, 0.0, 0.0, 0.0, 0.0, 0.0, 0.0, 0.0, 0.0, 0.0, 0.0, 0.0, 0.0, 0.0, 0.0, 0.0, 0.0, 0.0, 0.0, 0.0, 0.0, 0.0, 0.0, 0.0, 0.0, 0.0, 0.0, 0.0, 0.0, 0.0, 0.0, 0.0, 0.0, 0.0, 0.0, 0.0, 0.0, 0.0, 0.0, 0.0, 0.0, 0.0, 0.0, 0.0, 0.0, 0.0, 0.0, 0.0, 0.0, 0.0, 0.0, 0.0, 0.0, 0.0, 0.0, 0.0, 0.0, 0.0, 0.0, 0.0, 0.0, 0.0, 0.0, 0.0, 0.0, 0.0, 0.0, 0.0, 0.0, 0.0, 0.0, 0.0, 0.0, 0.0, 0.0, 0.0, 0.0, 0.0, 0.0, 0.0, 0.0, 0.0, 0.0, 0.0, 0.0, 0.0, 0.0, 0.0, 0.0, 0.0, 0.0, 0.0, 0.0, 0.0, 0.0, 0.0, 0.0, 0.0, 0.0, 0.0, 0.0, 0.0, 0.0, 0.0, 0.0, 0.0, 0.0, 0.0, 0.0, 0.0, 0.0, 0.0, 0.0, 0.0, 0.0, 0.0, 0.0, 0.0, 0.0, 0.0, 0.0, 0.0, 0.0, 0.0, 0.0, 0.0, 0.0, 0.0, 0.0, 0.0, 0.0, 0.0, 0.0, 0.0, 0.0, 0.0, 0.0, 0.0, 0.0, 0.0, 0.0, 0.0, 0.0, 0.0, 0.0, 0.0, 0.0, 0.0, 0.0, 0.0, 0.0, 0.0, 0.0, 0.0, 0.0, 0.0, 0.0, 0.0, 0.0, 0.0, 0.0, 0.0, 0.0, 0.0, 0.0, 0.0, 0.0, 0.0, 0.0, 0.0, 0.0, 0.0, 0.0, 0.0, 0.0, 0.0, 0.0, 0.0, 0.0, 0.0, 0.0, 0.0, 0.0, 0.0, 0.0, 0.0, 0.0, 0.0, 0.0, 0.0, 0.0, 0.0, 0.0, 0.0, 0.0, 0.0, 0.0, 0.0, 0.0, 0.0, 0.0, 0.0, 0.0, 0.0, 0.0, 0.0, 0.0, 0.0, 0.0, 0.0, 0.0, 0.0, 0.0, 0.0, 0.0, 0.0, 0.0, 0.0, 0.0, 0.0, 0.0, 0.0, 0.0, 0.0, 0.0, 0.0, 0.0, 0.0, 0.0, 0.0, 0.0, 0.0, 0.0, 0.0, 0.0, 0.0, 0.0, 0.0, 0.0, 0.0, 0.0, 0.0, 0.0, 0.0, 0.0, 0.0, 0.0, 0.0, 0.0, 0.0, 0.0, 0.0, 0.0, 0.0, 0.0, 0.0, 0.0, 0.0, 0.0, 0.0, 0.0, 0.0, 0.0, 0.0, 0.0, 0.0, 0.0, 0.0, 0.0, 0.0, 0.0, 0.0, 0.0, 0.0, 0.0, 0.0, 0.0, 0.0, 0.0, 0.0, 0.0, 0.0, 0.0, 0.0, 0.0, 0.0, 0.0, 0.0, 0.0, 0.0, 0.0, 0.0, 0.0, 0.0, 0.0, 0.0, 0.0, 0.0, 0.0]}\"] , extra_info: {'cost': 6}"
      ]
     },
     "execution_count": 11,
     "metadata": {},
     "output_type": "execute_result"
    }
   ],
   "source": [
    "res = client.get(\n",
    "    collection_name=\"rag_demo\",\n",
    "    ids=[452810533752388407]\n",
    ")\n",
    "res"
   ]
  },
  {
   "cell_type": "markdown",
   "id": "2af99888-4b48-4dfe-91f0-bd28d10df221",
   "metadata": {},
   "source": [
    "## 进阶案例"
   ]
  },
  {
   "cell_type": "code",
   "execution_count": 136,
   "id": "9431bdaa-32cd-4543-94b0-de4283d88f2c",
   "metadata": {},
   "outputs": [],
   "source": [
    "client.drop_collection(collection_name=\"rag_demo\")"
   ]
  },
  {
   "cell_type": "code",
   "execution_count": 137,
   "id": "dedd0451-4ebf-4851-8c03-ffa713a2677a",
   "metadata": {},
   "outputs": [],
   "source": [
    "schema = MilvusClient.create_schema(\n",
    "    auto_id=True,\n",
    "    enable_dynamic_field=True,\n",
    ")\n",
    "schema.add_field(field_name=\"id\", datatype=DataType.INT64, is_primary=True)\n",
    "schema.add_field(field_name=\"page_idx\", datatype=DataType.INT16) # pdf页码\n",
    "schema.add_field(field_name=\"chunk_content\", datatype=DataType.VARCHAR, max_length=1024)\n",
    "schema.add_field(field_name=\"chunk_sparse_embedding\", datatype=DataType.SPARSE_FLOAT_VECTOR)\n",
    "schema.add_field(field_name=\"chunk_embedding\", datatype=DataType.FLOAT_VECTOR, dim=512)\n",
    "\n",
    "index_params = MilvusClient.prepare_index_params()\n",
    "index_params.add_index(\n",
    "    field_name=\"chunk_embedding\",\n",
    "    metric_type=\"COSINE\",\n",
    "    index_type=\"AUTOINDEX\",\n",
    "    index_name=\"vector_index\"\n",
    ")\n",
    "index_params.add_index(\n",
    "    field_name=\"chunk_sparse_embedding\",\n",
    "    index_name=\"sparse_inverted_index\",\n",
    "    index_type=\"SPARSE_INVERTED_INDEX\",\n",
    "    metric_type=\"IP\",\n",
    "    params={\"drop_ratio_build\": 0.2},\n",
    ")\n",
    "\n",
    "\n",
    "client.create_collection(\n",
    "    collection_name=\"rag_demo\", \n",
    "    schema=schema, \n",
    "    index_params=index_params\n",
    ")"
   ]
  },
  {
   "cell_type": "code",
   "execution_count": 138,
   "id": "c02d8300-c4b5-4c1f-9c15-cc0f59a25eb9",
   "metadata": {},
   "outputs": [
    {
     "name": "stdout",
     "output_type": "stream",
     "text": [
      "tokens: ['artifici', 'intellig', 'found', 'academ', 'disciplin', '1956']\n"
     ]
    }
   ],
   "source": [
    "from pymilvus.model.sparse.bm25.tokenizers import build_default_analyzer\n",
    "from pymilvus.model.sparse import BM25EmbeddingFunction\n",
    " \n",
    "# 有一些内置的分析器适用于几种语言，现在我们使用英语'en'。\n",
    "analyzer = build_default_analyzer(language=\"en\")\n",
    " \n",
    "corpus = [\n",
    "    \"Artificial intelligence was founded as an academic discipline in 1956.\",\n",
    "    \"Alan Turing was the first person to conduct substantial research in AI.\",\n",
    "    \"Born in Maida Vale, London, Turing was raised in southern England.\",\n",
    "]\n",
    " \n",
    "# 分析器可以将文本分词为标记\n",
    "tokens = analyzer(corpus[0])\n",
    "print(\"tokens:\", tokens)"
   ]
  },
  {
   "cell_type": "code",
   "execution_count": 139,
   "id": "197bf12f-4000-41ba-8498-e20a7243bbe1",
   "metadata": {},
   "outputs": [
    {
     "name": "stdout",
     "output_type": "stream",
     "text": [
      "['机器', '学习', '改变', '生活', '方式']\n"
     ]
    }
   ],
   "source": [
    "docs = [\n",
    "    \"机器学习正在改变我们的生活方式。\",\n",
    "    \"深度学习在图像识别中表现出色。\",\n",
    "    \"自然语言处理是计算机科学的重要领域。\",\n",
    "    \"自动驾驶依赖于先进的算法。\",\n",
    "    \"AI可以帮助医生诊断疾病。\",\n",
    "    \"金融领域广泛应用数据分析技术。\",\n",
    "    \"生产效率可以通过自动化技术提高。\",\n",
    "    \"机器智能的未来充满潜力。\",\n",
    "    \"大数据支持是机器智能发展的关键。\",\n",
    "    \"量子隧穿效应使得电子能够穿过经典力学认为无法穿过的势垒，这在半导体器件中有着重要的应用。\"\n",
    "]\n",
    "\n",
    "# 使用支持中文的分析器\n",
    "analyzer = build_default_analyzer(language=\"zh\")\n",
    "\n",
    "# 分析器对文本做分词处理\n",
    "tokens1 = analyzer(docs[0])\n",
    "print(tokens1)"
   ]
  },
  {
   "cell_type": "code",
   "execution_count": 140,
   "id": "bf106186-3e30-4e42-894d-852ea1c07665",
   "metadata": {},
   "outputs": [],
   "source": [
    "# 创建BM25EmbeddingFunction实例，传入分词器，以及其他参数\n",
    "bm25_ef = BM25EmbeddingFunction(analyzer)\n",
    "\n",
    "# 计算文档集合的参数\n",
    "bm25_ef.fit(docs)"
   ]
  },
  {
   "cell_type": "code",
   "execution_count": 141,
   "id": "2ebb8b00-10c3-4549-b6f8-8f306edfe141",
   "metadata": {},
   "outputs": [],
   "source": [
    "result = bm25_ef.encode_queries([\"机器学习是未来的趋势\"]).reshape(1, -1)"
   ]
  },
  {
   "cell_type": "code",
   "execution_count": 142,
   "id": "b06a2c53-81f9-49ea-85b2-72826dcf170f",
   "metadata": {},
   "outputs": [
    {
     "data": {
      "text/plain": [
       "{0: 0.76214004, 1: 1.2237754, 30: 1.8458267}"
      ]
     },
     "execution_count": 142,
     "metadata": {},
     "output_type": "execute_result"
    }
   ],
   "source": [
    "{index: value for index, value in zip(result.indices, result.data)}"
   ]
  },
  {
   "cell_type": "code",
   "execution_count": 143,
   "id": "dfbefdc3-78b6-491d-a85a-f5895cb4177f",
   "metadata": {},
   "outputs": [],
   "source": [
    "for doc in docs:\n",
    "    result = bm25_ef.encode_queries([doc]).reshape(1, -1)\n",
    "    res = client.insert(\n",
    "        collection_name=\"rag_demo\",\n",
    "        data=[\n",
    "            {\n",
    "                \"chunk_content\": doc,\n",
    "                \"chunk_sparse_embedding\": {index: value for index, value in zip(result.indices, result.data)},\n",
    "                \"page_idx\": 0,\n",
    "                \"chunk_embedding\": [0.1] * 512\n",
    "            }\n",
    "        ]\n",
    "    )"
   ]
  },
  {
   "cell_type": "code",
   "execution_count": 144,
   "id": "6b9df9de-0a9f-4b4c-a91e-e0999ff8731d",
   "metadata": {},
   "outputs": [],
   "source": [
    "from pymilvus import (\n",
    "    utility,\n",
    "    FieldSchema, CollectionSchema, DataType,\n",
    "    Collection, AnnSearchRequest, RRFRanker, connections,\n",
    ")"
   ]
  },
  {
   "cell_type": "code",
   "execution_count": 148,
   "id": "f530ff22-a866-4a10-887a-24a312cc3af6",
   "metadata": {},
   "outputs": [],
   "source": [
    "result = bm25_ef.encode_queries(['机器学习']).reshape(1, -1)\n",
    "\n",
    "sparse_search_params = {\"metric_type\": \"IP\"}\n",
    "sparse_req = AnnSearchRequest([{index: float(value) for index, value in zip(result.indices, result.data)}],\n",
    "                              \"chunk_sparse_embedding\", sparse_search_params, limit=2)\n",
    "\n",
    "dense_search_params = {\"metric_type\": \"COSINE\"}\n",
    "dense_req = AnnSearchRequest([[0.0] * 512],\n",
    "                             \"chunk_embedding\", dense_search_params, limit=2)\n",
    "\n",
    "reqs = [sparse_req, dense_req]"
   ]
  },
  {
   "cell_type": "code",
   "execution_count": 149,
   "id": "840b3d5e-e27d-48f9-82a1-e2672996f31a",
   "metadata": {},
   "outputs": [],
   "source": [
    "from pymilvus import WeightedRanker\n",
    "\n",
    "rerank = WeightedRanker(0.8, 0.2)  "
   ]
  },
  {
   "cell_type": "code",
   "execution_count": 151,
   "id": "8c0ffe8f-d34f-4c3c-a8ca-5a223d3db555",
   "metadata": {},
   "outputs": [],
   "source": [
    "result = client.hybrid_search(\"rag_demo\", reqs, ranker=rerank, limit=2)"
   ]
  },
  {
   "cell_type": "code",
   "execution_count": 152,
   "id": "c65df90a-13e1-4b7f-8d5b-89190041e65e",
   "metadata": {},
   "outputs": [
    {
     "data": {
      "text/plain": [
       "data: [\"[{'id': 454417515799994115, 'distance': 0.7858083248138428, 'entity': {}}, {'id': 454417515799994117, 'distance': 0.7500801682472229, 'entity': {}}]\"] , extra_info: {'cost': 6}"
      ]
     },
     "execution_count": 152,
     "metadata": {},
     "output_type": "execute_result"
    }
   ],
   "source": [
    "result"
   ]
  },
  {
   "cell_type": "code",
   "execution_count": 153,
   "id": "a5a08af8-4880-44e9-bbac-05638837712f",
   "metadata": {},
   "outputs": [
    {
     "data": {
      "text/plain": [
       "data: [\"{'chunk_sparse_embedding': {0: 0.7621400356292725, 1: 1.2237753868103027, 2: 1.8458267450332642, 3: 1.8458267450332642, 4: 1.8458267450332642}, 'chunk_embedding': [0.1, 0.1, 0.1, 0.1, 0.1, 0.1, 0.1, 0.1, 0.1, 0.1, 0.1, 0.1, 0.1, 0.1, 0.1, 0.1, 0.1, 0.1, 0.1, 0.1, 0.1, 0.1, 0.1, 0.1, 0.1, 0.1, 0.1, 0.1, 0.1, 0.1, 0.1, 0.1, 0.1, 0.1, 0.1, 0.1, 0.1, 0.1, 0.1, 0.1, 0.1, 0.1, 0.1, 0.1, 0.1, 0.1, 0.1, 0.1, 0.1, 0.1, 0.1, 0.1, 0.1, 0.1, 0.1, 0.1, 0.1, 0.1, 0.1, 0.1, 0.1, 0.1, 0.1, 0.1, 0.1, 0.1, 0.1, 0.1, 0.1, 0.1, 0.1, 0.1, 0.1, 0.1, 0.1, 0.1, 0.1, 0.1, 0.1, 0.1, 0.1, 0.1, 0.1, 0.1, 0.1, 0.1, 0.1, 0.1, 0.1, 0.1, 0.1, 0.1, 0.1, 0.1, 0.1, 0.1, 0.1, 0.1, 0.1, 0.1, 0.1, 0.1, 0.1, 0.1, 0.1, 0.1, 0.1, 0.1, 0.1, 0.1, 0.1, 0.1, 0.1, 0.1, 0.1, 0.1, 0.1, 0.1, 0.1, 0.1, 0.1, 0.1, 0.1, 0.1, 0.1, 0.1, 0.1, 0.1, 0.1, 0.1, 0.1, 0.1, 0.1, 0.1, 0.1, 0.1, 0.1, 0.1, 0.1, 0.1, 0.1, 0.1, 0.1, 0.1, 0.1, 0.1, 0.1, 0.1, 0.1, 0.1, 0.1, 0.1, 0.1, 0.1, 0.1, 0.1, 0.1, 0.1, 0.1, 0.1, 0.1, 0.1, 0.1, 0.1, 0.1, 0.1, 0.1, 0.1, 0.1, 0.1, 0.1, 0.1, 0.1, 0.1, 0.1, 0.1, 0.1, 0.1, 0.1, 0.1, 0.1, 0.1, 0.1, 0.1, 0.1, 0.1, 0.1, 0.1, 0.1, 0.1, 0.1, 0.1, 0.1, 0.1, 0.1, 0.1, 0.1, 0.1, 0.1, 0.1, 0.1, 0.1, 0.1, 0.1, 0.1, 0.1, 0.1, 0.1, 0.1, 0.1, 0.1, 0.1, 0.1, 0.1, 0.1, 0.1, 0.1, 0.1, 0.1, 0.1, 0.1, 0.1, 0.1, 0.1, 0.1, 0.1, 0.1, 0.1, 0.1, 0.1, 0.1, 0.1, 0.1, 0.1, 0.1, 0.1, 0.1, 0.1, 0.1, 0.1, 0.1, 0.1, 0.1, 0.1, 0.1, 0.1, 0.1, 0.1, 0.1, 0.1, 0.1, 0.1, 0.1, 0.1, 0.1, 0.1, 0.1, 0.1, 0.1, 0.1, 0.1, 0.1, 0.1, 0.1, 0.1, 0.1, 0.1, 0.1, 0.1, 0.1, 0.1, 0.1, 0.1, 0.1, 0.1, 0.1, 0.1, 0.1, 0.1, 0.1, 0.1, 0.1, 0.1, 0.1, 0.1, 0.1, 0.1, 0.1, 0.1, 0.1, 0.1, 0.1, 0.1, 0.1, 0.1, 0.1, 0.1, 0.1, 0.1, 0.1, 0.1, 0.1, 0.1, 0.1, 0.1, 0.1, 0.1, 0.1, 0.1, 0.1, 0.1, 0.1, 0.1, 0.1, 0.1, 0.1, 0.1, 0.1, 0.1, 0.1, 0.1, 0.1, 0.1, 0.1, 0.1, 0.1, 0.1, 0.1, 0.1, 0.1, 0.1, 0.1, 0.1, 0.1, 0.1, 0.1, 0.1, 0.1, 0.1, 0.1, 0.1, 0.1, 0.1, 0.1, 0.1, 0.1, 0.1, 0.1, 0.1, 0.1, 0.1, 0.1, 0.1, 0.1, 0.1, 0.1, 0.1, 0.1, 0.1, 0.1, 0.1, 0.1, 0.1, 0.1, 0.1, 0.1, 0.1, 0.1, 0.1, 0.1, 0.1, 0.1, 0.1, 0.1, 0.1, 0.1, 0.1, 0.1, 0.1, 0.1, 0.1, 0.1, 0.1, 0.1, 0.1, 0.1, 0.1, 0.1, 0.1, 0.1, 0.1, 0.1, 0.1, 0.1, 0.1, 0.1, 0.1, 0.1, 0.1, 0.1, 0.1, 0.1, 0.1, 0.1, 0.1, 0.1, 0.1, 0.1, 0.1, 0.1, 0.1, 0.1, 0.1, 0.1, 0.1, 0.1, 0.1, 0.1, 0.1, 0.1, 0.1, 0.1, 0.1, 0.1, 0.1, 0.1, 0.1, 0.1, 0.1, 0.1, 0.1, 0.1, 0.1, 0.1, 0.1, 0.1, 0.1, 0.1, 0.1, 0.1, 0.1, 0.1, 0.1, 0.1, 0.1, 0.1, 0.1, 0.1, 0.1, 0.1, 0.1, 0.1, 0.1, 0.1, 0.1, 0.1, 0.1, 0.1, 0.1, 0.1, 0.1, 0.1, 0.1, 0.1, 0.1, 0.1, 0.1, 0.1, 0.1, 0.1, 0.1, 0.1, 0.1, 0.1, 0.1, 0.1, 0.1, 0.1, 0.1, 0.1, 0.1, 0.1, 0.1, 0.1, 0.1, 0.1, 0.1, 0.1, 0.1, 0.1, 0.1, 0.1, 0.1, 0.1, 0.1, 0.1, 0.1, 0.1, 0.1, 0.1, 0.1, 0.1, 0.1, 0.1, 0.1, 0.1, 0.1, 0.1, 0.1, 0.1, 0.1, 0.1], 'id': 454417515799994115, 'page_idx': 0, 'chunk_content': '机器学习正在改变我们的生活方式。'}\"] , extra_info: {'cost': 6}"
      ]
     },
     "execution_count": 153,
     "metadata": {},
     "output_type": "execute_result"
    }
   ],
   "source": [
    "res = client.get(\n",
    "    collection_name=\"rag_demo\",\n",
    "    ids=[454417515799994115]\n",
    ")\n",
    "res"
   ]
  },
  {
   "cell_type": "markdown",
   "id": "501ec669-5051-4203-9b8a-ea82fc74edfc",
   "metadata": {},
   "source": [
    "## RAG案例"
   ]
  },
  {
   "cell_type": "code",
   "execution_count": 215,
   "id": "1f5f31b6-f8c8-4693-815f-3c9116862529",
   "metadata": {},
   "outputs": [],
   "source": [
    "import pandas as pd\n",
    "from tqdm import tqdm\n",
    "news = pd.read_csv(\"http://mirror.coggle.club/news-title.txt\", sep='\\t', header=None)[0].drop_duplicates().values"
   ]
  },
  {
   "cell_type": "code",
   "execution_count": 216,
   "id": "17618c74-fe58-4fe3-a74e-bce0999b5aa6",
   "metadata": {},
   "outputs": [],
   "source": [
    "from sentence_transformers import SentenceTransformer\n",
    "model = SentenceTransformer(\"BAAI/bge-small-zh-v1.5\")"
   ]
  },
  {
   "cell_type": "code",
   "execution_count": 217,
   "id": "9edc16d4-aac3-47e3-9389-a87253a6d968",
   "metadata": {},
   "outputs": [],
   "source": [
    "client.drop_collection(collection_name=\"rag_demo\")\n",
    "\n",
    "schema = MilvusClient.create_schema(\n",
    "    auto_id=True,\n",
    "    enable_dynamic_field=True,\n",
    ")\n",
    "schema.add_field(field_name=\"id\", datatype=DataType.INT64, is_primary=True)\n",
    "schema.add_field(field_name=\"chunk_content\", datatype=DataType.VARCHAR, max_length=1024)\n",
    "schema.add_field(field_name=\"chunk_sparse_embedding\", datatype=DataType.SPARSE_FLOAT_VECTOR)\n",
    "schema.add_field(field_name=\"chunk_embedding\", datatype=DataType.FLOAT_VECTOR, dim=512)\n",
    "\n",
    "index_params = MilvusClient.prepare_index_params()\n",
    "index_params.add_index(\n",
    "    field_name=\"chunk_embedding\",\n",
    "    metric_type=\"COSINE\",\n",
    "    index_type=\"AUTOINDEX\",\n",
    "    index_name=\"vector_index\"\n",
    ")\n",
    "index_params.add_index(\n",
    "    field_name=\"chunk_sparse_embedding\",\n",
    "    index_name=\"sparse_inverted_index\",\n",
    "    index_type=\"SPARSE_INVERTED_INDEX\",\n",
    "    metric_type=\"IP\",\n",
    "    params={\"drop_ratio_build\": 0.2},\n",
    ")\n",
    "\n",
    "\n",
    "client.create_collection(\n",
    "    collection_name=\"rag_demo\", \n",
    "    schema=schema, \n",
    "    index_params=index_params\n",
    ")"
   ]
  },
  {
   "cell_type": "code",
   "execution_count": 218,
   "id": "8c51a133-592a-482c-8606-9f90c48c3c87",
   "metadata": {},
   "outputs": [],
   "source": [
    "from pymilvus.model.sparse.bm25.tokenizers import build_default_analyzer\n",
    "from pymilvus.model.sparse import BM25EmbeddingFunction\n",
    " \n",
    "analyzer = build_default_analyzer(language=\"zh\") \n",
    "bm25_ef = BM25EmbeddingFunction(analyzer)\n",
    "bm25_ef.fit(news)"
   ]
  },
  {
   "cell_type": "code",
   "execution_count": 219,
   "id": "f483e765-5716-4968-9999-465a575fcd3c",
   "metadata": {},
   "outputs": [
    {
     "name": "stderr",
     "output_type": "stream",
     "text": [
      "100%|█████████████████████████████████████████████████████████████████████████████████████████████████████████████████████████████████████████████████████████████████████████████| 489/489 [01:58<00:00,  4.14it/s]\n"
     ]
    }
   ],
   "source": [
    "for title in tqdm(news):\n",
    "    encode = model.encode(title)\n",
    "    result = bm25_ef.encode_queries([doc]).reshape(1, -1)\n",
    "    \n",
    "    res = client.insert(\n",
    "        collection_name=\"rag_demo\",\n",
    "        data=[\n",
    "            {\n",
    "                \"chunk_content\": title,\n",
    "                \"chunk_sparse_embedding\": {index: value for index, value in zip(result.indices, result.data)},\n",
    "                \"chunk_embedding\": encode\n",
    "            }\n",
    "        ]\n",
    "    )"
   ]
  },
  {
   "cell_type": "code",
   "execution_count": 220,
   "id": "36eb1ba1-26bd-402b-bedb-24a8ae8c1d10",
   "metadata": {},
   "outputs": [],
   "source": [
    "from pymilvus import (\n",
    "    utility,\n",
    "    FieldSchema, CollectionSchema, DataType,\n",
    "    Collection, AnnSearchRequest, RRFRanker, connections,\n",
    ")\n",
    "from pymilvus import WeightedRanker\n",
    "\n",
    "query = \"最近北京相关的新闻\"\n",
    "result = bm25_ef.encode_queries([query]).reshape(1, -1)\n",
    "\n",
    "sparse_search_params = {\"metric_type\": \"IP\"}\n",
    "sparse_req = AnnSearchRequest([{index: float(value) for index, value in zip(result.indices, result.data)}],\n",
    "                              \"chunk_sparse_embedding\", sparse_search_params, limit=10)\n",
    "\n",
    "dense_search_params = {\"metric_type\": \"COSINE\"}\n",
    "dense_req = AnnSearchRequest([list(model.encode(query))],\n",
    "                             \"chunk_embedding\", dense_search_params, limit=10)\n",
    "\n",
    "reqs = [sparse_req, dense_req]\n",
    "\n",
    "rerank = WeightedRanker(0.8, 0.2)  \n",
    "result = client.hybrid_search(\"rag_demo\", reqs, ranker=rerank, limit=10, output_fields=[\"chunk_content\"])"
   ]
  },
  {
   "cell_type": "code",
   "execution_count": 221,
   "id": "000802af-ce9c-4921-826b-a22d97e14e4d",
   "metadata": {},
   "outputs": [],
   "source": [
    "related_news = \"\\n\".join([x[\"entity\"][\"chunk_content\"] for x in result[0]])\n",
    "prompt = f\"\"\"请对用户的提问进行回答：{query}\n",
    "\n",
    "相关资料：{related_news}\n",
    "\"\"\""
   ]
  },
  {
   "cell_type": "code",
   "execution_count": 222,
   "id": "0299b5bd-8d86-4409-bb3c-693b084bdfe6",
   "metadata": {},
   "outputs": [
    {
     "name": "stdout",
     "output_type": "stream",
     "text": [
      "请对用户的提问进行回答：最近北京相关的新闻\n",
      "\n",
      "相关资料：网友晚间继续供稿 北京夜空被盛大绚丽烟火照亮\n",
      "百盛在京最后门店将休整 外资第一店不敌新商业\n",
      "每日易乐:窗外飞过的那辆车 速度太快竟没认出来\n",
      "马云最后一天上班看望老同事：人气太旺 堪比追星现\n",
      "中国国家博物馆10月3日至7日对社会正常开放\n",
      "每日易乐:看什么看 没见过如此炫酷的二八大杠么\n",
      "每日易乐:预感会有一大波人因错过下车而迟到\n",
      "香港运输局:港铁出轨事件非常严重 不排除任何可能\n",
      "牛津、剑桥大学贫富生录取人数相差14倍\n",
      "被曝出大尺度聊天音频 张天回应：不知情时被录 \n",
      "\n"
     ]
    }
   ],
   "source": [
    "print(prompt)"
   ]
  },
  {
   "cell_type": "code",
   "execution_count": null,
   "id": "b67c1cd3-d0dc-411a-8842-ce1c898b1a0d",
   "metadata": {},
   "outputs": [],
   "source": []
  }
 ],
 "metadata": {
  "kernelspec": {
   "display_name": "Python 3 (ipykernel)",
   "language": "python",
   "name": "python3"
  },
  "language_info": {
   "codemirror_mode": {
    "name": "ipython",
    "version": 3
   },
   "file_extension": ".py",
   "mimetype": "text/x-python",
   "name": "python",
   "nbconvert_exporter": "python",
   "pygments_lexer": "ipython3",
   "version": "3.12.5"
  }
 },
 "nbformat": 4,
 "nbformat_minor": 5
}
