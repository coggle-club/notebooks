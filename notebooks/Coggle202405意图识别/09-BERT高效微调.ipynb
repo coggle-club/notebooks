{
 "cells": [
  {
   "cell_type": "code",
   "execution_count": 1,
   "metadata": {
    "tags": []
   },
   "outputs": [],
   "source": [
    "import torch\n",
    "import numpy as np\n",
    "import jieba\n",
    "import pandas as pd\n",
    "\n",
    "data_dir = 'https://mirror.coggle.club/dataset/coggle-competition/'\n",
    "train_data = pd.read_csv(data_dir + 'intent-classify/train.csv', sep='\\t', header=None)\n",
    "test_data = pd.read_csv(data_dir + 'intent-classify/test.csv', sep='\\t', header=None)\n",
    "\n",
    "# train_data = train_data.sample(frac=1.0)\n",
    "train_data[1], lbl = pd.factorize(train_data[1])"
   ]
  },
  {
   "cell_type": "code",
   "execution_count": 2,
   "metadata": {
    "tags": []
   },
   "outputs": [
    {
     "data": {
      "text/plain": [
       "12"
      ]
     },
     "execution_count": 2,
     "metadata": {},
     "output_type": "execute_result"
    }
   ],
   "source": [
    "len(lbl)"
   ]
  },
  {
   "cell_type": "code",
   "execution_count": 3,
   "metadata": {
    "tags": []
   },
   "outputs": [
    {
     "data": {
      "text/html": [
       "<div>\n",
       "<style scoped>\n",
       "    .dataframe tbody tr th:only-of-type {\n",
       "        vertical-align: middle;\n",
       "    }\n",
       "\n",
       "    .dataframe tbody tr th {\n",
       "        vertical-align: top;\n",
       "    }\n",
       "\n",
       "    .dataframe thead th {\n",
       "        text-align: right;\n",
       "    }\n",
       "</style>\n",
       "<table border=\"1\" class=\"dataframe\">\n",
       "  <thead>\n",
       "    <tr style=\"text-align: right;\">\n",
       "      <th></th>\n",
       "      <th>0</th>\n",
       "      <th>1</th>\n",
       "    </tr>\n",
       "  </thead>\n",
       "  <tbody>\n",
       "    <tr>\n",
       "      <th>0</th>\n",
       "      <td>还有双鸭山到淮阴的汽车票吗13号的</td>\n",
       "      <td>0</td>\n",
       "    </tr>\n",
       "    <tr>\n",
       "      <th>1</th>\n",
       "      <td>从这里怎么回家</td>\n",
       "      <td>0</td>\n",
       "    </tr>\n",
       "    <tr>\n",
       "      <th>2</th>\n",
       "      <td>随便播放一首专辑阁楼里的佛里的歌</td>\n",
       "      <td>1</td>\n",
       "    </tr>\n",
       "    <tr>\n",
       "      <th>3</th>\n",
       "      <td>给看一下墓王之王嘛</td>\n",
       "      <td>2</td>\n",
       "    </tr>\n",
       "    <tr>\n",
       "      <th>4</th>\n",
       "      <td>我想看挑战两把s686打突变团竞的游戏视频</td>\n",
       "      <td>3</td>\n",
       "    </tr>\n",
       "  </tbody>\n",
       "</table>\n",
       "</div>"
      ],
      "text/plain": [
       "                       0  1\n",
       "0      还有双鸭山到淮阴的汽车票吗13号的  0\n",
       "1                从这里怎么回家  0\n",
       "2       随便播放一首专辑阁楼里的佛里的歌  1\n",
       "3              给看一下墓王之王嘛  2\n",
       "4  我想看挑战两把s686打突变团竞的游戏视频  3"
      ]
     },
     "execution_count": 3,
     "metadata": {},
     "output_type": "execute_result"
    }
   ],
   "source": [
    "train_data.head()"
   ]
  },
  {
   "cell_type": "code",
   "execution_count": 4,
   "metadata": {
    "ExecuteTime": {
     "end_time": "2021-03-11T09:35:08.358976Z",
     "start_time": "2021-03-11T09:35:08.347065Z"
    },
    "tags": []
   },
   "outputs": [],
   "source": [
    "import torch\n",
    "from sklearn.model_selection import train_test_split\n",
    "from torch.utils.data import Dataset, DataLoader, TensorDataset\n",
    "import numpy as np\n",
    "import pandas as pd\n",
    "import random\n",
    "import re"
   ]
  },
  {
   "cell_type": "code",
   "execution_count": 5,
   "metadata": {
    "ExecuteTime": {
     "end_time": "2021-03-11T09:35:09.263768Z",
     "start_time": "2021-03-11T09:35:09.227357Z"
    },
    "tags": []
   },
   "outputs": [],
   "source": [
    "# 划分为训练集和验证集\n",
    "# stratify 按照标签进行采样，训练集和验证部分同分布\n",
    "x_train, x_test, train_label, test_label = train_test_split(train_data[0].values,\n",
    "                                                            train_data[1].values,\n",
    "                                                            test_size=0.2,\n",
    "                                                            stratify=train_data[1].values)"
   ]
  },
  {
   "cell_type": "code",
   "execution_count": 6,
   "metadata": {
    "tags": []
   },
   "outputs": [
    {
     "data": {
      "text/plain": [
       "<Axes: ylabel='Frequency'>"
      ]
     },
     "execution_count": 6,
     "metadata": {},
     "output_type": "execute_result"
    },
    {
     "data": {
      "image/png": "[encoded data removed]",
      "text/plain": [
       "<Figure size 640x480 with 1 Axes>"
      ]
     },
     "metadata": {},
     "output_type": "display_data"
    }
   ],
   "source": [
    "train_data[0].apply(len).plot(kind='hist')"
   ]
  },
  {
   "cell_type": "code",
   "execution_count": 7,
   "metadata": {
    "tags": []
   },
   "outputs": [],
   "source": [
    "# input_ids：字的编码\n",
    "# token_type_ids：标识是第一个句子还是第二个句子\n",
    "# attention_mask：标识是不是填充"
   ]
  },
  {
   "cell_type": "code",
   "execution_count": 8,
   "metadata": {
    "ExecuteTime": {
     "end_time": "2021-03-11T09:35:19.935035Z",
     "start_time": "2021-03-11T09:35:09.908638Z"
    },
    "scrolled": true,
    "tags": []
   },
   "outputs": [],
   "source": [
    "import os\n",
    "os.environ[\"HF_ENDPOINT\"] = \"https://hf-mirror.com\"\n",
    "\n",
    "from transformers import AutoTokenizer, AutoModelForMaskedLM\n",
    "tokenizer = AutoTokenizer.from_pretrained(\"/home/lyz/hf-models/hfl/chinese-macbert-large\")\n",
    "\n",
    "train_encoding = tokenizer(list(x_train), truncation=True, padding=True, max_length=30)\n",
    "test_encoding = tokenizer(list(x_test), truncation=True, padding=True, max_length=30)"
   ]
  },
  {
   "cell_type": "code",
   "execution_count": 9,
   "metadata": {},
   "outputs": [
    {
     "name": "stderr",
     "output_type": "stream",
     "text": [
      "Some weights of BertForSequenceClassification were not initialized from the model checkpoint at /home/lyz/hf-models/hfl/chinese-macbert-large/ and are newly initialized: ['classifier.bias', 'classifier.weight']\n",
      "You should probably TRAIN this model on a down-stream task to be able to use it for predictions and inference.\n"
     ]
    },
    {
     "name": "stdout",
     "output_type": "stream",
     "text": [
      "trainable params: 4,927,500 || all params: 330,462,232 || trainable%: 1.491093239362978\n"
     ]
    },
    {
     "data": {
      "text/plain": [
       "PeftModelForSequenceClassification(\n",
       "  (base_model): LoraModel(\n",
       "    (model): BertForSequenceClassification(\n",
       "      (bert): BertModel(\n",
       "        (embeddings): BertEmbeddings(\n",
       "          (word_embeddings): Embedding(21128, 1024, padding_idx=0)\n",
       "          (position_embeddings): Embedding(512, 1024)\n",
       "          (token_type_embeddings): Embedding(2, 1024)\n",
       "          (LayerNorm): LayerNorm((1024,), eps=1e-12, elementwise_affine=True)\n",
       "          (dropout): Dropout(p=0.1, inplace=False)\n",
       "        )\n",
       "        (encoder): BertEncoder(\n",
       "          (layer): ModuleList(\n",
       "            (0-23): 24 x BertLayer(\n",
       "              (attention): BertAttention(\n",
       "                (self): BertSelfAttention(\n",
       "                  (query): lora.Linear(\n",
       "                    (base_layer): Linear(in_features=1024, out_features=1024, bias=True)\n",
       "                    (lora_dropout): ModuleDict(\n",
       "                      (default): Dropout(p=0.01, inplace=False)\n",
       "                    )\n",
       "                    (lora_A): ModuleDict(\n",
       "                      (default): Linear(in_features=1024, out_features=50, bias=False)\n",
       "                    )\n",
       "                    (lora_B): ModuleDict(\n",
       "                      (default): Linear(in_features=50, out_features=1024, bias=False)\n",
       "                    )\n",
       "                    (lora_embedding_A): ParameterDict()\n",
       "                    (lora_embedding_B): ParameterDict()\n",
       "                  )\n",
       "                  (key): Linear(in_features=1024, out_features=1024, bias=True)\n",
       "                  (value): lora.Linear(\n",
       "                    (base_layer): Linear(in_features=1024, out_features=1024, bias=True)\n",
       "                    (lora_dropout): ModuleDict(\n",
       "                      (default): Dropout(p=0.01, inplace=False)\n",
       "                    )\n",
       "                    (lora_A): ModuleDict(\n",
       "                      (default): Linear(in_features=1024, out_features=50, bias=False)\n",
       "                    )\n",
       "                    (lora_B): ModuleDict(\n",
       "                      (default): Linear(in_features=50, out_features=1024, bias=False)\n",
       "                    )\n",
       "                    (lora_embedding_A): ParameterDict()\n",
       "                    (lora_embedding_B): ParameterDict()\n",
       "                  )\n",
       "                  (dropout): Dropout(p=0.1, inplace=False)\n",
       "                )\n",
       "                (output): BertSelfOutput(\n",
       "                  (dense): Linear(in_features=1024, out_features=1024, bias=True)\n",
       "                  (LayerNorm): LayerNorm((1024,), eps=1e-12, elementwise_affine=True)\n",
       "                  (dropout): Dropout(p=0.1, inplace=False)\n",
       "                )\n",
       "              )\n",
       "              (intermediate): BertIntermediate(\n",
       "                (dense): Linear(in_features=1024, out_features=4096, bias=True)\n",
       "                (intermediate_act_fn): GELUActivation()\n",
       "              )\n",
       "              (output): BertOutput(\n",
       "                (dense): Linear(in_features=4096, out_features=1024, bias=True)\n",
       "                (LayerNorm): LayerNorm((1024,), eps=1e-12, elementwise_affine=True)\n",
       "                (dropout): Dropout(p=0.1, inplace=False)\n",
       "              )\n",
       "            )\n",
       "          )\n",
       "        )\n",
       "        (pooler): BertPooler(\n",
       "          (dense): Linear(in_features=1024, out_features=1024, bias=True)\n",
       "          (activation): Tanh()\n",
       "        )\n",
       "      )\n",
       "      (dropout): Dropout(p=0.1, inplace=False)\n",
       "      (classifier): ModulesToSaveWrapper(\n",
       "        (original_module): Linear(in_features=1024, out_features=12, bias=True)\n",
       "        (modules_to_save): ModuleDict(\n",
       "          (default): Linear(in_features=1024, out_features=12, bias=True)\n",
       "        )\n",
       "      )\n",
       "    )\n",
       "  )\n",
       ")"
      ]
     },
     "execution_count": 9,
     "metadata": {},
     "output_type": "execute_result"
    }
   ],
   "source": [
    "import torch\n",
    "from peft import LoraConfig, TaskType\n",
    "from peft import get_peft_model\n",
    "from transformers import BertForSequenceClassification\n",
    "\n",
    "lora_config = LoraConfig(\n",
    "    task_type=TaskType.SEQ_CLS, r=50, lora_alpha=1, lora_dropout=0.01\n",
    ")\n",
    "model = BertForSequenceClassification.from_pretrained(\n",
    "    '/home/lyz/hf-models/hfl/chinese-macbert-large/', num_labels=12\n",
    ")\n",
    "model = get_peft_model(model, lora_config)\n",
    "model.print_trainable_parameters()\n",
    "device = torch.device(\"cuda\" if torch.cuda.is_available() else \"cpu\")\n",
    "model.to(device)"
   ]
  },
  {
   "cell_type": "code",
   "execution_count": 10,
   "metadata": {
    "ExecuteTime": {
     "end_time": "2021-03-11T09:35:43.578135Z",
     "start_time": "2021-03-11T09:35:43.571452Z"
    },
    "tags": []
   },
   "outputs": [],
   "source": [
    "# 数据集读取\n",
    "class NewsDataset(Dataset):\n",
    "    def __init__(self, encodings, labels):\n",
    "        self.encodings = encodings\n",
    "        self.labels = labels\n",
    "\n",
    "    # 读取单个样本\n",
    "    def __getitem__(self, idx):\n",
    "        item = {key: torch.tensor(val[idx]) for key, val in self.encodings.items()}\n",
    "        item['labels'] = torch.tensor(int(self.labels[idx]))\n",
    "        return item\n",
    "\n",
    "    def __len__(self):\n",
    "        return len(self.labels)\n",
    "\n",
    "\n",
    "train_dataset = NewsDataset(train_encoding, train_label)\n",
    "test_dataset = NewsDataset(test_encoding, test_label)"
   ]
  },
  {
   "cell_type": "code",
   "execution_count": 11,
   "metadata": {
    "tags": []
   },
   "outputs": [
    {
     "data": {
      "text/plain": [
       "{'input_ids': tensor([ 101, 3221,  679, 3221, 5543, 2828, 6825, 5330, 1196, 5326, 5330, 3064,\n",
       "          671,  678, 1450,  102,    0,    0,    0,    0,    0,    0,    0,    0,\n",
       "            0,    0,    0,    0,    0,    0]),\n",
       " 'token_type_ids': tensor([0, 0, 0, 0, 0, 0, 0, 0, 0, 0, 0, 0, 0, 0, 0, 0, 0, 0, 0, 0, 0, 0, 0, 0,\n",
       "         0, 0, 0, 0, 0, 0]),\n",
       " 'attention_mask': tensor([1, 1, 1, 1, 1, 1, 1, 1, 1, 1, 1, 1, 1, 1, 1, 1, 0, 0, 0, 0, 0, 0, 0, 0,\n",
       "         0, 0, 0, 0, 0, 0]),\n",
       " 'labels': tensor(2)}"
      ]
     },
     "execution_count": 11,
     "metadata": {},
     "output_type": "execute_result"
    }
   ],
   "source": [
    "train_dataset[1]"
   ]
  },
  {
   "cell_type": "code",
   "execution_count": 12,
   "metadata": {
    "ExecuteTime": {
     "end_time": "2021-03-11T09:35:44.110121Z",
     "start_time": "2021-03-11T09:35:44.104871Z"
    },
    "tags": []
   },
   "outputs": [],
   "source": [
    "# 精度计算\n",
    "def flat_accuracy(preds, labels):\n",
    "    pred_flat = np.argmax(preds, axis=1).flatten()\n",
    "    labels_flat = labels.flatten()\n",
    "    return np.sum(pred_flat == labels_flat) / len(labels_flat)"
   ]
  },
  {
   "cell_type": "code",
   "execution_count": 13,
   "metadata": {
    "ExecuteTime": {
     "end_time": "2021-03-11T09:58:49.027161Z",
     "start_time": "2021-03-11T09:58:45.317009Z"
    },
    "tags": []
   },
   "outputs": [],
   "source": [
    "from transformers import BertForSequenceClassification, AdamW, get_linear_schedule_with_warmup\n",
    "from transformers import AutoModelForSequenceClassification"
   ]
  },
  {
   "cell_type": "code",
   "execution_count": 14,
   "metadata": {
    "ExecuteTime": {
     "end_time": "2021-03-11T09:44:22.077501Z",
     "start_time": "2021-03-11T09:39:16.473609Z"
    },
    "scrolled": true,
    "tags": []
   },
   "outputs": [],
   "source": [
    "device = torch.device(\"cuda\" if torch.cuda.is_available() else \"cpu\")\n",
    "\n",
    "# 训练函数\n",
    "def train(model, train_loader, epoch):\n",
    "    model.train()\n",
    "    total_train_loss = 0\n",
    "    iter_num = 0\n",
    "    total_iter = len(train_loader)\n",
    "    for batch in train_loader:\n",
    "        # 正向传播\n",
    "        optim.zero_grad()\n",
    "\n",
    "        input_ids = batch['input_ids'].to(device)\n",
    "        attention_mask = batch['attention_mask'].to(device)\n",
    "        labels = batch['labels'].to(device)\n",
    "\n",
    "        outputs = model(input_ids, attention_mask=attention_mask, labels=labels)\n",
    "        loss = outputs[0]\n",
    "        total_train_loss += loss.item()\n",
    "\n",
    "        # 反向梯度信息\n",
    "        loss.backward()\n",
    "        torch.nn.utils.clip_grad_norm_(model.parameters(), 1.0)\n",
    "\n",
    "        # 参数更新\n",
    "        optim.step()\n",
    "        # scheduler.step()\n",
    "\n",
    "        iter_num += 1\n",
    "        if(iter_num % 100 == 0):\n",
    "            print(\"epoth: %d, iter_num: %d, loss: %.4f, %.2f%%\" % (epoch, iter_num, loss.item(), iter_num/total_iter*100))\n",
    "\n",
    "    print(\"Epoch: %d, Average training loss: %.4f\" % (epoch, total_train_loss/len(train_loader)))\n",
    "\n",
    "\n",
    "def validation(model, val_dataloader):\n",
    "    model.eval()\n",
    "    total_eval_accuracy = 0\n",
    "    total_eval_loss = 0\n",
    "    for batch in val_dataloader:\n",
    "        with torch.no_grad():\n",
    "            # 正常传播\n",
    "            input_ids = batch['input_ids'].to(device)\n",
    "            attention_mask = batch['attention_mask'].to(device)\n",
    "            labels = batch['labels'].to(device)\n",
    "            outputs = model(input_ids, attention_mask=attention_mask, labels=labels)\n",
    "        loss = outputs[0]\n",
    "        logits = outputs[1]\n",
    "\n",
    "        total_eval_loss += loss.item()\n",
    "        logits = logits.detach().cpu().numpy()\n",
    "        label_ids = labels.to('cpu').numpy()\n",
    "        total_eval_accuracy += flat_accuracy(logits, label_ids)\n",
    "\n",
    "    avg_val_accuracy = total_eval_accuracy / len(val_dataloader)\n",
    "    print(\"Accuracy: %.4f\" % (avg_val_accuracy))\n",
    "    print(\"Average testing loss: %.4f\" % (total_eval_loss/len(val_dataloader)))\n",
    "    print(\"-------------------------------\")"
   ]
  },
  {
   "cell_type": "code",
   "execution_count": 15,
   "metadata": {
    "scrolled": true,
    "tags": []
   },
   "outputs": [
    {
     "name": "stdout",
     "output_type": "stream",
     "text": [
      "[ 2420  2421  2422 ... 12097 12098 12099]\n"
     ]
    },
    {
     "name": "stderr",
     "output_type": "stream",
     "text": [
      "Some weights of BertForSequenceClassification were not initialized from the model checkpoint at /home/lyz/hf-models/hfl/chinese-macbert-large/ and are newly initialized: ['classifier.bias', 'classifier.weight']\n",
      "You should probably TRAIN this model on a down-stream task to be able to use it for predictions and inference.\n",
      "/home/lyz/anaconda3/envs/py311/lib/python3.11/site-packages/transformers/optimization.py:521: FutureWarning: This implementation of AdamW is deprecated and will be removed in a future version. Use the PyTorch implementation torch.optim.AdamW instead, or set `no_deprecation_warning=True` to disable this warning\n",
      "  warnings.warn(\n"
     ]
    },
    {
     "name": "stdout",
     "output_type": "stream",
     "text": [
      "epoth: 0, iter_num: 100, loss: 0.5732, 16.53%\n",
      "epoth: 0, iter_num: 200, loss: 0.0713, 33.06%\n",
      "epoth: 0, iter_num: 300, loss: 0.9274, 49.59%\n",
      "epoth: 0, iter_num: 400, loss: 0.0207, 66.12%\n",
      "epoth: 0, iter_num: 500, loss: 0.3288, 82.64%\n",
      "epoth: 0, iter_num: 600, loss: 0.0508, 99.17%\n",
      "Epoch: 0, Average training loss: 0.4703\n",
      "Accuracy: 0.9567\n",
      "Average testing loss: 0.1515\n",
      "-------------------------------\n",
      "epoth: 1, iter_num: 100, loss: 0.3391, 16.53%\n",
      "epoth: 1, iter_num: 200, loss: 0.0278, 33.06%\n",
      "epoth: 1, iter_num: 300, loss: 0.0591, 49.59%\n",
      "epoth: 1, iter_num: 400, loss: 0.3624, 66.12%\n",
      "epoth: 1, iter_num: 500, loss: 0.3643, 82.64%\n",
      "epoth: 1, iter_num: 600, loss: 0.6247, 99.17%\n",
      "Epoch: 1, Average training loss: 0.1747\n",
      "Accuracy: 0.9771\n",
      "Average testing loss: 0.0831\n",
      "-------------------------------\n",
      "epoth: 2, iter_num: 100, loss: 0.0594, 16.53%\n",
      "epoth: 2, iter_num: 200, loss: 0.0027, 33.06%\n",
      "epoth: 2, iter_num: 300, loss: 0.2754, 49.59%\n",
      "epoth: 2, iter_num: 400, loss: 0.0014, 66.12%\n",
      "epoth: 2, iter_num: 500, loss: 0.0024, 82.64%\n",
      "epoth: 2, iter_num: 600, loss: 0.3313, 99.17%\n",
      "Epoch: 2, Average training loss: 0.1035\n",
      "Accuracy: 0.9878\n",
      "Average testing loss: 0.0477\n",
      "-------------------------------\n",
      "epoth: 3, iter_num: 100, loss: 0.0019, 16.53%\n",
      "epoth: 3, iter_num: 200, loss: 0.0095, 33.06%\n",
      "epoth: 3, iter_num: 300, loss: 0.0025, 49.59%\n",
      "epoth: 3, iter_num: 400, loss: 0.0014, 66.12%\n",
      "epoth: 3, iter_num: 500, loss: 0.0018, 82.64%\n",
      "epoth: 3, iter_num: 600, loss: 0.0093, 99.17%\n",
      "Epoch: 3, Average training loss: 0.0590\n",
      "Accuracy: 0.9945\n",
      "Average testing loss: 0.0215\n",
      "-------------------------------\n",
      "epoth: 4, iter_num: 100, loss: 0.4369, 16.53%\n",
      "epoth: 4, iter_num: 200, loss: 0.0008, 33.06%\n",
      "epoth: 4, iter_num: 300, loss: 0.0032, 49.59%\n",
      "epoth: 4, iter_num: 400, loss: 0.0014, 66.12%\n",
      "epoth: 4, iter_num: 500, loss: 0.0303, 82.64%\n",
      "epoth: 4, iter_num: 600, loss: 0.0028, 99.17%\n",
      "Epoch: 4, Average training loss: 0.0383\n",
      "Accuracy: 0.9966\n",
      "Average testing loss: 0.0164\n",
      "-------------------------------\n",
      "[    0     1     2 ... 12097 12098 12099]\n"
     ]
    },
    {
     "name": "stderr",
     "output_type": "stream",
     "text": [
      "Some weights of BertForSequenceClassification were not initialized from the model checkpoint at /home/lyz/hf-models/hfl/chinese-macbert-large/ and are newly initialized: ['classifier.bias', 'classifier.weight']\n",
      "You should probably TRAIN this model on a down-stream task to be able to use it for predictions and inference.\n"
     ]
    },
    {
     "name": "stdout",
     "output_type": "stream",
     "text": [
      "epoth: 0, iter_num: 100, loss: 0.7529, 16.53%\n",
      "epoth: 0, iter_num: 200, loss: 0.3124, 33.06%\n",
      "epoth: 0, iter_num: 300, loss: 0.0973, 49.59%\n",
      "epoth: 0, iter_num: 400, loss: 0.1018, 66.12%\n",
      "epoth: 0, iter_num: 500, loss: 0.0297, 82.64%\n",
      "epoth: 0, iter_num: 600, loss: 0.2207, 99.17%\n",
      "Epoch: 0, Average training loss: 0.5043\n",
      "Accuracy: 0.9549\n",
      "Average testing loss: 0.1536\n",
      "-------------------------------\n",
      "epoth: 1, iter_num: 100, loss: 0.0143, 16.53%\n",
      "epoth: 1, iter_num: 200, loss: 0.1158, 33.06%\n",
      "epoth: 1, iter_num: 300, loss: 0.2074, 49.59%\n",
      "epoth: 1, iter_num: 400, loss: 0.9149, 66.12%\n",
      "epoth: 1, iter_num: 500, loss: 0.2557, 82.64%\n",
      "epoth: 1, iter_num: 600, loss: 0.0915, 99.17%\n",
      "Epoch: 1, Average training loss: 0.1685\n",
      "Accuracy: 0.9783\n",
      "Average testing loss: 0.0822\n",
      "-------------------------------\n",
      "epoth: 2, iter_num: 100, loss: 0.0121, 16.53%\n",
      "epoth: 2, iter_num: 200, loss: 0.0015, 33.06%\n",
      "epoth: 2, iter_num: 300, loss: 0.0043, 49.59%\n",
      "epoth: 2, iter_num: 400, loss: 0.0266, 66.12%\n",
      "epoth: 2, iter_num: 500, loss: 0.3288, 82.64%\n",
      "epoth: 2, iter_num: 600, loss: 0.0061, 99.17%\n",
      "Epoch: 2, Average training loss: 0.0982\n",
      "Accuracy: 0.9881\n",
      "Average testing loss: 0.0446\n",
      "-------------------------------\n",
      "epoth: 3, iter_num: 100, loss: 0.0015, 16.53%\n",
      "epoth: 3, iter_num: 200, loss: 0.0007, 33.06%\n",
      "epoth: 3, iter_num: 300, loss: 0.0989, 49.59%\n",
      "epoth: 3, iter_num: 400, loss: 0.0496, 66.12%\n",
      "epoth: 3, iter_num: 500, loss: 0.0012, 82.64%\n",
      "epoth: 3, iter_num: 600, loss: 0.0008, 99.17%\n",
      "Epoch: 3, Average training loss: 0.0629\n",
      "Accuracy: 0.9907\n",
      "Average testing loss: 0.0369\n",
      "-------------------------------\n",
      "epoth: 4, iter_num: 100, loss: 0.0009, 16.53%\n",
      "epoth: 4, iter_num: 200, loss: 0.0042, 33.06%\n",
      "epoth: 4, iter_num: 300, loss: 0.0102, 49.59%\n",
      "epoth: 4, iter_num: 400, loss: 0.0068, 66.12%\n",
      "epoth: 4, iter_num: 500, loss: 0.0007, 82.64%\n",
      "epoth: 4, iter_num: 600, loss: 0.0005, 99.17%\n",
      "Epoch: 4, Average training loss: 0.0417\n",
      "Accuracy: 0.9969\n",
      "Average testing loss: 0.0100\n",
      "-------------------------------\n",
      "[    0     1     2 ... 12097 12098 12099]\n"
     ]
    },
    {
     "name": "stderr",
     "output_type": "stream",
     "text": [
      "Some weights of BertForSequenceClassification were not initialized from the model checkpoint at /home/lyz/hf-models/hfl/chinese-macbert-large/ and are newly initialized: ['classifier.bias', 'classifier.weight']\n",
      "You should probably TRAIN this model on a down-stream task to be able to use it for predictions and inference.\n"
     ]
    },
    {
     "name": "stdout",
     "output_type": "stream",
     "text": [
      "epoth: 0, iter_num: 100, loss: 0.3347, 16.53%\n",
      "epoth: 0, iter_num: 200, loss: 0.4755, 33.06%\n",
      "epoth: 0, iter_num: 300, loss: 0.3466, 49.59%\n",
      "epoth: 0, iter_num: 400, loss: 0.5965, 66.12%\n",
      "epoth: 0, iter_num: 500, loss: 0.6385, 82.64%\n",
      "epoth: 0, iter_num: 600, loss: 0.3223, 99.17%\n",
      "Epoch: 0, Average training loss: 0.5012\n",
      "Accuracy: 0.9476\n",
      "Average testing loss: 0.1758\n",
      "-------------------------------\n",
      "epoth: 1, iter_num: 100, loss: 0.0254, 16.53%\n",
      "epoth: 1, iter_num: 200, loss: 0.0565, 33.06%\n",
      "epoth: 1, iter_num: 300, loss: 0.9993, 49.59%\n",
      "epoth: 1, iter_num: 400, loss: 0.3394, 66.12%\n",
      "epoth: 1, iter_num: 500, loss: 0.2983, 82.64%\n",
      "epoth: 1, iter_num: 600, loss: 0.0101, 99.17%\n",
      "Epoch: 1, Average training loss: 0.1668\n",
      "Accuracy: 0.9772\n",
      "Average testing loss: 0.0792\n",
      "-------------------------------\n",
      "epoth: 2, iter_num: 100, loss: 0.2335, 16.53%\n",
      "epoth: 2, iter_num: 200, loss: 0.0140, 33.06%\n",
      "epoth: 2, iter_num: 300, loss: 0.0057, 49.59%\n",
      "epoth: 2, iter_num: 400, loss: 0.1011, 66.12%\n",
      "epoth: 2, iter_num: 500, loss: 0.0102, 82.64%\n",
      "epoth: 2, iter_num: 600, loss: 0.0291, 99.17%\n",
      "Epoch: 2, Average training loss: 0.0895\n",
      "Accuracy: 0.9876\n",
      "Average testing loss: 0.0452\n",
      "-------------------------------\n",
      "epoth: 3, iter_num: 100, loss: 0.0034, 16.53%\n",
      "epoth: 3, iter_num: 200, loss: 0.0134, 33.06%\n",
      "epoth: 3, iter_num: 300, loss: 0.0020, 49.59%\n",
      "epoth: 3, iter_num: 400, loss: 0.0009, 66.12%\n",
      "epoth: 3, iter_num: 500, loss: 0.0009, 82.64%\n",
      "epoth: 3, iter_num: 600, loss: 0.0006, 99.17%\n",
      "Epoch: 3, Average training loss: 0.0559\n",
      "Accuracy: 0.9946\n",
      "Average testing loss: 0.0222\n",
      "-------------------------------\n",
      "epoth: 4, iter_num: 100, loss: 0.0006, 16.53%\n",
      "epoth: 4, iter_num: 200, loss: 0.0006, 33.06%\n",
      "epoth: 4, iter_num: 300, loss: 0.0014, 49.59%\n",
      "epoth: 4, iter_num: 400, loss: 0.0010, 66.12%\n",
      "epoth: 4, iter_num: 500, loss: 0.0006, 82.64%\n",
      "epoth: 4, iter_num: 600, loss: 0.0005, 99.17%\n",
      "Epoch: 4, Average training loss: 0.0348\n",
      "Accuracy: 0.9944\n",
      "Average testing loss: 0.0264\n",
      "-------------------------------\n",
      "[    0     1     2 ... 12097 12098 12099]\n"
     ]
    },
    {
     "name": "stderr",
     "output_type": "stream",
     "text": [
      "Some weights of BertForSequenceClassification were not initialized from the model checkpoint at /home/lyz/hf-models/hfl/chinese-macbert-large/ and are newly initialized: ['classifier.bias', 'classifier.weight']\n",
      "You should probably TRAIN this model on a down-stream task to be able to use it for predictions and inference.\n"
     ]
    },
    {
     "name": "stdout",
     "output_type": "stream",
     "text": [
      "epoth: 0, iter_num: 100, loss: 0.3930, 16.53%\n",
      "epoth: 0, iter_num: 200, loss: 0.0485, 33.06%\n",
      "epoth: 0, iter_num: 300, loss: 0.4751, 49.59%\n",
      "epoth: 0, iter_num: 400, loss: 0.2490, 66.12%\n",
      "epoth: 0, iter_num: 500, loss: 0.0389, 82.64%\n",
      "epoth: 0, iter_num: 600, loss: 0.1470, 99.17%\n",
      "Epoch: 0, Average training loss: 0.4779\n",
      "Accuracy: 0.9593\n",
      "Average testing loss: 0.1492\n",
      "-------------------------------\n",
      "epoth: 1, iter_num: 100, loss: 0.0496, 16.53%\n",
      "epoth: 1, iter_num: 200, loss: 0.2660, 33.06%\n",
      "epoth: 1, iter_num: 300, loss: 0.0111, 49.59%\n",
      "epoth: 1, iter_num: 400, loss: 0.4816, 66.12%\n",
      "epoth: 1, iter_num: 500, loss: 0.5089, 82.64%\n",
      "epoth: 1, iter_num: 600, loss: 0.1522, 99.17%\n",
      "Epoch: 1, Average training loss: 0.1635\n",
      "Accuracy: 0.9787\n",
      "Average testing loss: 0.0708\n",
      "-------------------------------\n",
      "epoth: 2, iter_num: 100, loss: 0.0025, 16.53%\n",
      "epoth: 2, iter_num: 200, loss: 0.1081, 33.06%\n",
      "epoth: 2, iter_num: 300, loss: 0.0617, 49.59%\n",
      "epoth: 2, iter_num: 400, loss: 0.0068, 66.12%\n",
      "epoth: 2, iter_num: 500, loss: 0.0023, 82.64%\n",
      "epoth: 2, iter_num: 600, loss: 0.0575, 99.17%\n",
      "Epoch: 2, Average training loss: 0.0911\n",
      "Accuracy: 0.9873\n",
      "Average testing loss: 0.0490\n",
      "-------------------------------\n",
      "epoth: 3, iter_num: 100, loss: 0.0019, 16.53%\n",
      "epoth: 3, iter_num: 200, loss: 0.3401, 33.06%\n",
      "epoth: 3, iter_num: 300, loss: 0.0008, 49.59%\n",
      "epoth: 3, iter_num: 400, loss: 0.3757, 66.12%\n",
      "epoth: 3, iter_num: 500, loss: 0.0009, 82.64%\n",
      "epoth: 3, iter_num: 600, loss: 0.0142, 99.17%\n",
      "Epoch: 3, Average training loss: 0.0546\n",
      "Accuracy: 0.9932\n",
      "Average testing loss: 0.0278\n",
      "-------------------------------\n",
      "epoth: 4, iter_num: 100, loss: 0.0016, 16.53%\n",
      "epoth: 4, iter_num: 200, loss: 0.0018, 33.06%\n",
      "epoth: 4, iter_num: 300, loss: 0.5075, 49.59%\n",
      "epoth: 4, iter_num: 400, loss: 0.0006, 66.12%\n",
      "epoth: 4, iter_num: 500, loss: 0.0007, 82.64%\n",
      "epoth: 4, iter_num: 600, loss: 0.0006, 99.17%\n",
      "Epoch: 4, Average training loss: 0.0314\n",
      "Accuracy: 0.9938\n",
      "Average testing loss: 0.0275\n",
      "-------------------------------\n",
      "[   0    1    2 ... 9677 9678 9679]\n"
     ]
    },
    {
     "name": "stderr",
     "output_type": "stream",
     "text": [
      "Some weights of BertForSequenceClassification were not initialized from the model checkpoint at /home/lyz/hf-models/hfl/chinese-macbert-large/ and are newly initialized: ['classifier.bias', 'classifier.weight']\n",
      "You should probably TRAIN this model on a down-stream task to be able to use it for predictions and inference.\n"
     ]
    },
    {
     "name": "stdout",
     "output_type": "stream",
     "text": [
      "epoth: 0, iter_num: 100, loss: 0.1960, 16.53%\n",
      "epoth: 0, iter_num: 200, loss: 0.0984, 33.06%\n",
      "epoth: 0, iter_num: 300, loss: 0.5474, 49.59%\n",
      "epoth: 0, iter_num: 400, loss: 0.0244, 66.12%\n",
      "epoth: 0, iter_num: 500, loss: 0.0375, 82.64%\n",
      "epoth: 0, iter_num: 600, loss: 0.0128, 99.17%\n",
      "Epoch: 0, Average training loss: 0.3445\n",
      "Accuracy: 0.9829\n",
      "Average testing loss: 0.0671\n",
      "-------------------------------\n",
      "epoth: 1, iter_num: 100, loss: 0.2014, 16.53%\n",
      "epoth: 1, iter_num: 200, loss: 0.0067, 33.06%\n",
      "epoth: 1, iter_num: 300, loss: 0.1942, 49.59%\n",
      "epoth: 1, iter_num: 400, loss: 0.0022, 66.12%\n",
      "epoth: 1, iter_num: 500, loss: 0.0015, 82.64%\n",
      "epoth: 1, iter_num: 600, loss: 0.0033, 99.17%\n",
      "Epoch: 1, Average training loss: 0.0807\n",
      "Accuracy: 0.9911\n",
      "Average testing loss: 0.0360\n",
      "-------------------------------\n",
      "epoth: 2, iter_num: 100, loss: 0.0010, 16.53%\n",
      "epoth: 2, iter_num: 200, loss: 0.0401, 33.06%\n",
      "epoth: 2, iter_num: 300, loss: 0.0008, 49.59%\n",
      "epoth: 2, iter_num: 400, loss: 0.0008, 66.12%\n",
      "epoth: 2, iter_num: 500, loss: 0.0010, 82.64%\n",
      "epoth: 2, iter_num: 600, loss: 0.0482, 99.17%\n",
      "Epoch: 2, Average training loss: 0.0437\n",
      "Accuracy: 0.9970\n",
      "Average testing loss: 0.0128\n",
      "-------------------------------\n",
      "epoth: 3, iter_num: 100, loss: 0.0006, 16.53%\n",
      "epoth: 3, iter_num: 200, loss: 0.0004, 33.06%\n",
      "epoth: 3, iter_num: 300, loss: 0.0031, 49.59%\n",
      "epoth: 3, iter_num: 400, loss: 0.0006, 66.12%\n",
      "epoth: 3, iter_num: 500, loss: 0.0184, 82.64%\n",
      "epoth: 3, iter_num: 600, loss: 0.0004, 99.17%\n",
      "Epoch: 3, Average training loss: 0.0172\n",
      "Accuracy: 0.9982\n",
      "Average testing loss: 0.0060\n",
      "-------------------------------\n",
      "epoth: 4, iter_num: 100, loss: 0.0024, 16.53%\n",
      "epoth: 4, iter_num: 200, loss: 0.0002, 33.06%\n",
      "epoth: 4, iter_num: 300, loss: 0.0003, 49.59%\n",
      "epoth: 4, iter_num: 400, loss: 0.0002, 66.12%\n",
      "epoth: 4, iter_num: 500, loss: 0.0004, 82.64%\n",
      "epoth: 4, iter_num: 600, loss: 0.0003, 99.17%\n",
      "Epoch: 4, Average training loss: 0.0153\n",
      "Accuracy: 0.9994\n",
      "Average testing loss: 0.0030\n",
      "-------------------------------\n"
     ]
    }
   ],
   "source": [
    "from sklearn.model_selection import KFold\n",
    "kf = KFold(n_splits=5)\n",
    "device = torch.device(\"cuda\" if torch.cuda.is_available() else \"cpu\")\n",
    "\n",
    "fold = 0\n",
    "for train_idx, val_idx in kf.split(train_data[0].values, train_data[1].values,):\n",
    "    print(train_idx)\n",
    "    train_text = train_data[0].iloc[train_idx]\n",
    "    val_text = train_data[0].iloc[train_idx]\n",
    "\n",
    "    train_label = train_data[1].iloc[train_idx].values\n",
    "    val_label = train_data[1].iloc[train_idx].values\n",
    "\n",
    "    train_encoding = tokenizer(list(train_text), truncation=True, padding=True, max_length=30)\n",
    "    val_encoding = tokenizer(list(val_text), truncation=True, padding=True, max_length=30)\n",
    "\n",
    "    # 默认是没有数据扩增，文本默认是没有变换的操作\n",
    "    train_dataset = NewsDataset(train_encoding, train_label)\n",
    "    val_dataset = NewsDataset(val_encoding, val_label)\n",
    "\n",
    "    train_loader = DataLoader(train_dataset, batch_size=16, shuffle=True)\n",
    "    val_dataloader = DataLoader(val_dataset, batch_size=16, shuffle=True)\n",
    "\n",
    "\n",
    "    # peft_config = LoraConfig(task_type=\"SEQ_CLS\", inference_mode=False, r=8, lora_alpha=16, lora_dropout=0.01)\n",
    "    model = BertForSequenceClassification.from_pretrained(\n",
    "        '/home/lyz/hf-models/hfl/chinese-macbert-large/', num_labels=12\n",
    "    )\n",
    "    # model = get_peft_model(model, lora_config)\n",
    "    model.to(device)\n",
    "    \n",
    "    # 优化方法\n",
    "    optim = AdamW(model.parameters(), lr=1e-5)\n",
    "    total_steps = len(train_loader) * 1\n",
    "    scheduler = get_linear_schedule_with_warmup(optim,\n",
    "                                                num_warmup_steps=0,  # Default value in run_glue.py\n",
    "                                                num_training_steps=total_steps)\n",
    "\n",
    "    for epoch in range(5):\n",
    "        train(model, train_loader, epoch)\n",
    "        validation(model, val_dataloader)\n",
    "\n",
    "    torch.save(model.state_dict(), 'model_' + str(fold) + '.pt')\n",
    "\n",
    "    fold += 1"
   ]
  },
  {
   "cell_type": "code",
   "execution_count": 17,
   "metadata": {
    "tags": []
   },
   "outputs": [],
   "source": [
    "test_encoding = tokenizer(list(test_data[0]), truncation=True, padding=True, max_length=30)\n",
    "test_dataset = NewsDataset(test_encoding, [0] * len(test_data))\n",
    "test_dataloader = DataLoader(test_dataset, batch_size=16, shuffle=False)\n",
    "\n",
    "def prediction(model, test_dataloader):\n",
    "    model.eval()\n",
    "    pred = []\n",
    "    for batch in test_dataloader:\n",
    "        with torch.no_grad():\n",
    "            # 正常传播\n",
    "            input_ids = batch['input_ids'].to(device)\n",
    "            attention_mask = batch['attention_mask'].to(device)\n",
    "            labels = batch['labels'].to(device)\n",
    "            outputs = model(input_ids, attention_mask=attention_mask, labels=labels)\n",
    "        loss = outputs[0]\n",
    "        logits = outputs[1]\n",
    "\n",
    "        logits = logits.detach().cpu().numpy()\n",
    "        pred.append(logits)\n",
    "        # pred += list(np.argmax(logits, axis=1).flatten())\n",
    "\n",
    "    return np.vstack(pred)"
   ]
  },
  {
   "cell_type": "code",
   "execution_count": 18,
   "metadata": {
    "tags": []
   },
   "outputs": [],
   "source": [
    "pred = np.zeros((3000, 12))\n",
    "for path in ['model_0.pt', 'model_1.pt', 'model_2.pt', 'model_3.pt', 'model_4.pt']:\n",
    "    # model = AutoModelForSequenceClassification.from_pretrained('/home/lyz/huggingface模型下载/hfl/chinese-macbert-large/', num_labels=12)\n",
    "    # device = torch.device(\"cuda\" if torch.cuda.is_available() else \"cpu\")\n",
    "    # model.to(device)\n",
    "    model.load_state_dict(torch.load(path))\n",
    "    pred += prediction(model, test_dataloader)"
   ]
  },
  {
   "cell_type": "code",
   "execution_count": 19,
   "metadata": {
    "tags": []
   },
   "outputs": [],
   "source": [
    "pd.DataFrame({\n",
    "    'ID': range(1, len(test_data) + 1),\n",
    "    'Target': [lbl[x] for x in pred.argmax(1)],\n",
    "}).to_csv('nlp_submit.csv', index=None)"
   ]
  },
  {
   "cell_type": "code",
   "execution_count": null,
   "metadata": {},
   "outputs": [],
   "source": []
  }
 ],
 "metadata": {
  "kernelspec": {
   "display_name": "py3.11",
   "language": "python",
   "name": "py3.11"
  },
  "language_info": {
   "codemirror_mode": {
    "name": "ipython",
    "version": 3
   },
   "file_extension": ".py",
   "mimetype": "text/x-python",
   "name": "python",
   "nbconvert_exporter": "python",
   "pygments_lexer": "ipython3",
   "version": "3.11.8"
  },
  "toc": {
   "base_numbering": 1,
   "nav_menu": {},
   "number_sections": true,
   "sideBar": true,
   "skip_h1_title": false,
   "title_cell": "Table of Contents",
   "title_sidebar": "Contents",
   "toc_cell": false,
   "toc_position": {},
   "toc_section_display": true,
   "toc_window_display": false
  },
  "widgets": {
   "application/vnd.jupyter.widget-state+json": {
    "state": {},
    "version_major": 2,
    "version_minor": 0
   }
  }
 },
 "nbformat": 4,
 "nbformat_minor": 4
}
