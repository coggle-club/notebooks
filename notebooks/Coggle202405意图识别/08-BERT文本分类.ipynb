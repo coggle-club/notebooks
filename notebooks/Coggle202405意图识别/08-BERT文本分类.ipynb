{
 "cells": [
  {
   "cell_type": "code",
   "execution_count": 1,
   "metadata": {
    "tags": []
   },
   "outputs": [],
   "source": [
    "import torch\n",
    "import numpy as np\n",
    "import jieba\n",
    "import pandas as pd\n",
    "\n",
    "data_dir = 'https://mirror.coggle.club/dataset/coggle-competition/'\n",
    "train_data = pd.read_csv(data_dir + 'intent-classify/train.csv', sep='\\t', header=None)\n",
    "test_data = pd.read_csv(data_dir + 'intent-classify/test.csv', sep='\\t', header=None)\n",
    "\n",
    "# train_data = train_data.sample(frac=1.0)\n",
    "train_data[1], lbl = pd.factorize(train_data[1])"
   ]
  },
  {
   "cell_type": "code",
   "execution_count": 2,
   "metadata": {
    "tags": []
   },
   "outputs": [
    {
     "data": {
      "text/plain": [
       "12"
      ]
     },
     "execution_count": 2,
     "metadata": {},
     "output_type": "execute_result"
    }
   ],
   "source": [
    "len(lbl)"
   ]
  },
  {
   "cell_type": "code",
   "execution_count": 3,
   "metadata": {
    "tags": []
   },
   "outputs": [
    {
     "data": {
      "text/html": [
       "<div>\n",
       "<style scoped>\n",
       "    .dataframe tbody tr th:only-of-type {\n",
       "        vertical-align: middle;\n",
       "    }\n",
       "\n",
       "    .dataframe tbody tr th {\n",
       "        vertical-align: top;\n",
       "    }\n",
       "\n",
       "    .dataframe thead th {\n",
       "        text-align: right;\n",
       "    }\n",
       "</style>\n",
       "<table border=\"1\" class=\"dataframe\">\n",
       "  <thead>\n",
       "    <tr style=\"text-align: right;\">\n",
       "      <th></th>\n",
       "      <th>0</th>\n",
       "      <th>1</th>\n",
       "    </tr>\n",
       "  </thead>\n",
       "  <tbody>\n",
       "    <tr>\n",
       "      <th>0</th>\n",
       "      <td>还有双鸭山到淮阴的汽车票吗13号的</td>\n",
       "      <td>0</td>\n",
       "    </tr>\n",
       "    <tr>\n",
       "      <th>1</th>\n",
       "      <td>从这里怎么回家</td>\n",
       "      <td>0</td>\n",
       "    </tr>\n",
       "    <tr>\n",
       "      <th>2</th>\n",
       "      <td>随便播放一首专辑阁楼里的佛里的歌</td>\n",
       "      <td>1</td>\n",
       "    </tr>\n",
       "    <tr>\n",
       "      <th>3</th>\n",
       "      <td>给看一下墓王之王嘛</td>\n",
       "      <td>2</td>\n",
       "    </tr>\n",
       "    <tr>\n",
       "      <th>4</th>\n",
       "      <td>我想看挑战两把s686打突变团竞的游戏视频</td>\n",
       "      <td>3</td>\n",
       "    </tr>\n",
       "  </tbody>\n",
       "</table>\n",
       "</div>"
      ],
      "text/plain": [
       "                       0  1\n",
       "0      还有双鸭山到淮阴的汽车票吗13号的  0\n",
       "1                从这里怎么回家  0\n",
       "2       随便播放一首专辑阁楼里的佛里的歌  1\n",
       "3              给看一下墓王之王嘛  2\n",
       "4  我想看挑战两把s686打突变团竞的游戏视频  3"
      ]
     },
     "execution_count": 3,
     "metadata": {},
     "output_type": "execute_result"
    }
   ],
   "source": [
    "train_data.head()"
   ]
  },
  {
   "cell_type": "code",
   "execution_count": 4,
   "metadata": {
    "ExecuteTime": {
     "end_time": "2021-03-11T09:35:08.358976Z",
     "start_time": "2021-03-11T09:35:08.347065Z"
    },
    "tags": []
   },
   "outputs": [],
   "source": [
    "import torch\n",
    "from sklearn.model_selection import train_test_split\n",
    "from torch.utils.data import Dataset, DataLoader, TensorDataset\n",
    "import numpy as np\n",
    "import pandas as pd\n",
    "import random\n",
    "import re"
   ]
  },
  {
   "cell_type": "code",
   "execution_count": 5,
   "metadata": {
    "ExecuteTime": {
     "end_time": "2021-03-11T09:35:09.263768Z",
     "start_time": "2021-03-11T09:35:09.227357Z"
    },
    "tags": []
   },
   "outputs": [],
   "source": [
    "# 划分为训练集和验证集\n",
    "# stratify 按照标签进行采样，训练集和验证部分同分布\n",
    "x_train, x_test, train_label, test_label = train_test_split(train_data[0].values,\n",
    "                                                            train_data[1].values,\n",
    "                                                            test_size=0.2,\n",
    "                                                            stratify=train_data[1].values)"
   ]
  },
  {
   "cell_type": "code",
   "execution_count": 6,
   "metadata": {
    "tags": []
   },
   "outputs": [
    {
     "data": {
      "text/plain": [
       "<Axes: ylabel='Frequency'>"
      ]
     },
     "execution_count": 6,
     "metadata": {},
     "output_type": "execute_result"
    },
    {
     "data": {
      "image/png": "[encoded data removed]",
      "text/plain": [
       "<Figure size 640x480 with 1 Axes>"
      ]
     },
     "metadata": {},
     "output_type": "display_data"
    }
   ],
   "source": [
    "train_data[0].apply(len).plot(kind='hist')"
   ]
  },
  {
   "cell_type": "code",
   "execution_count": 7,
   "metadata": {
    "tags": []
   },
   "outputs": [],
   "source": [
    "# input_ids：字的编码\n",
    "# token_type_ids：标识是第一个句子还是第二个句子\n",
    "# attention_mask：标识是不是填充"
   ]
  },
  {
   "cell_type": "code",
   "execution_count": 11,
   "metadata": {
    "ExecuteTime": {
     "end_time": "2021-03-11T09:35:19.935035Z",
     "start_time": "2021-03-11T09:35:09.908638Z"
    },
    "scrolled": true,
    "tags": []
   },
   "outputs": [
    {
     "name": "stderr",
     "output_type": "stream",
     "text": [
      "/home/lyz/anaconda3/envs/py311/lib/python3.11/site-packages/huggingface_hub/file_download.py:1132: FutureWarning: `resume_download` is deprecated and will be removed in version 1.0.0. Downloads always resume when possible. If you want to force a new download, use `force_download=True`.\n",
      "  warnings.warn(\n"
     ]
    },
    {
     "data": {
      "application/vnd.jupyter.widget-view+json": {
       "model_id": "a15f47746b7843c5a6573803d51442b8",
       "version_major": 2,
       "version_minor": 0
      },
      "text/plain": [
       "tokenizer_config.json:   0%|          | 0.00/19.0 [00:00<?, ?B/s]"
      ]
     },
     "metadata": {},
     "output_type": "display_data"
    },
    {
     "data": {
      "application/vnd.jupyter.widget-view+json": {
       "model_id": "b9ee0b0248ab4fa4af5528991ef420d3",
       "version_major": 2,
       "version_minor": 0
      },
      "text/plain": [
       "config.json:   0%|          | 0.00/343 [00:00<?, ?B/s]"
      ]
     },
     "metadata": {},
     "output_type": "display_data"
    },
    {
     "data": {
      "application/vnd.jupyter.widget-view+json": {
       "model_id": "c922bbf7acaf43e1be563c4c58208e92",
       "version_major": 2,
       "version_minor": 0
      },
      "text/plain": [
       "vocab.txt: 0.00B [00:00, ?B/s]"
      ]
     },
     "metadata": {},
     "output_type": "display_data"
    },
    {
     "data": {
      "application/vnd.jupyter.widget-view+json": {
       "model_id": "35b9e01afacd438e91902e4c59f92e7b",
       "version_major": 2,
       "version_minor": 0
      },
      "text/plain": [
       "tokenizer.json: 0.00B [00:00, ?B/s]"
      ]
     },
     "metadata": {},
     "output_type": "display_data"
    },
    {
     "data": {
      "application/vnd.jupyter.widget-view+json": {
       "model_id": "1dc4a5c4aada47848c90cbf1d1fe91a9",
       "version_major": 2,
       "version_minor": 0
      },
      "text/plain": [
       "added_tokens.json:   0%|          | 0.00/2.00 [00:00<?, ?B/s]"
      ]
     },
     "metadata": {},
     "output_type": "display_data"
    },
    {
     "data": {
      "application/vnd.jupyter.widget-view+json": {
       "model_id": "4e15e4bb55fe4a1ca83f13a0389390f5",
       "version_major": 2,
       "version_minor": 0
      },
      "text/plain": [
       "special_tokens_map.json:   0%|          | 0.00/112 [00:00<?, ?B/s]"
      ]
     },
     "metadata": {},
     "output_type": "display_data"
    }
   ],
   "source": [
    "import os\n",
    "os.environ[\"HF_ENDPOINT\"] = \"https://hf-mirror.com\"\n",
    "\n",
    "from transformers import AutoTokenizer, AutoModelForMaskedLM\n",
    "tokenizer = AutoTokenizer.from_pretrained(\"hfl/chinese-macbert-base\")\n",
    "\n",
    "train_encoding = tokenizer(list(x_train), truncation=True, padding=True, max_length=30)\n",
    "test_encoding = tokenizer(list(x_test), truncation=True, padding=True, max_length=30)"
   ]
  },
  {
   "cell_type": "code",
   "execution_count": 12,
   "metadata": {
    "ExecuteTime": {
     "end_time": "2021-03-11T09:35:43.578135Z",
     "start_time": "2021-03-11T09:35:43.571452Z"
    },
    "tags": []
   },
   "outputs": [],
   "source": [
    "# 数据集读取\n",
    "class NewsDataset(Dataset):\n",
    "    def __init__(self, encodings, labels):\n",
    "        self.encodings = encodings\n",
    "        self.labels = labels\n",
    "\n",
    "    # 读取单个样本\n",
    "    def __getitem__(self, idx):\n",
    "        item = {key: torch.tensor(val[idx]) for key, val in self.encodings.items()}\n",
    "        item['labels'] = torch.tensor(int(self.labels[idx]))\n",
    "        return item\n",
    "\n",
    "    def __len__(self):\n",
    "        return len(self.labels)\n",
    "\n",
    "\n",
    "train_dataset = NewsDataset(train_encoding, train_label)\n",
    "test_dataset = NewsDataset(test_encoding, test_label)"
   ]
  },
  {
   "cell_type": "code",
   "execution_count": 13,
   "metadata": {
    "tags": []
   },
   "outputs": [
    {
     "data": {
      "text/plain": [
       "{'input_ids': tensor([ 101, 5543, 1415, 6444, 1168, 3777, 1298, 3696, 4495, 4692, 4692, 3221,\n",
       "          679, 3221, 1762, 3064, 3123, 2207, 5799, 2376, 2564, 1920, 1346, 5440,\n",
       "          102,    0,    0,    0,    0,    0]),\n",
       " 'token_type_ids': tensor([0, 0, 0, 0, 0, 0, 0, 0, 0, 0, 0, 0, 0, 0, 0, 0, 0, 0, 0, 0, 0, 0, 0, 0,\n",
       "         0, 0, 0, 0, 0, 0]),\n",
       " 'attention_mask': tensor([1, 1, 1, 1, 1, 1, 1, 1, 1, 1, 1, 1, 1, 1, 1, 1, 1, 1, 1, 1, 1, 1, 1, 1,\n",
       "         1, 0, 0, 0, 0, 0]),\n",
       " 'labels': tensor(9)}"
      ]
     },
     "execution_count": 13,
     "metadata": {},
     "output_type": "execute_result"
    }
   ],
   "source": [
    "train_dataset[1]"
   ]
  },
  {
   "cell_type": "code",
   "execution_count": 14,
   "metadata": {
    "ExecuteTime": {
     "end_time": "2021-03-11T09:35:44.110121Z",
     "start_time": "2021-03-11T09:35:44.104871Z"
    },
    "tags": []
   },
   "outputs": [],
   "source": [
    "# 精度计算\n",
    "def flat_accuracy(preds, labels):\n",
    "    pred_flat = np.argmax(preds, axis=1).flatten()\n",
    "    labels_flat = labels.flatten()\n",
    "    return np.sum(pred_flat == labels_flat) / len(labels_flat)"
   ]
  },
  {
   "cell_type": "code",
   "execution_count": 17,
   "metadata": {
    "ExecuteTime": {
     "end_time": "2021-03-11T09:58:49.027161Z",
     "start_time": "2021-03-11T09:58:45.317009Z"
    },
    "tags": []
   },
   "outputs": [
    {
     "name": "stderr",
     "output_type": "stream",
     "text": [
      "Some weights of BertForSequenceClassification were not initialized from the model checkpoint at /home/lyz/hf-models/hfl/chinese-macbert-base/ and are newly initialized: ['classifier.bias', 'classifier.weight']\n",
      "You should probably TRAIN this model on a down-stream task to be able to use it for predictions and inference.\n",
      "/home/lyz/anaconda3/envs/py311/lib/python3.11/site-packages/transformers/optimization.py:521: FutureWarning: This implementation of AdamW is deprecated and will be removed in a future version. Use the PyTorch implementation torch.optim.AdamW instead, or set `no_deprecation_warning=True` to disable this warning\n",
      "  warnings.warn(\n"
     ]
    }
   ],
   "source": [
    "from transformers import BertForSequenceClassification, AdamW, get_linear_schedule_with_warmup\n",
    "from transformers import AutoModelForSequenceClassification\n",
    "\n",
    "model = AutoModelForSequenceClassification.from_pretrained('/home/lyz/hf-models/hfl/chinese-macbert-base/', num_labels=12)\n",
    "device = torch.device(\"cuda\" if torch.cuda.is_available() else \"cpu\")\n",
    "model.to(device)\n",
    "\n",
    "optim = AdamW(model.parameters(), lr=1e-5)"
   ]
  },
  {
   "cell_type": "code",
   "execution_count": 18,
   "metadata": {
    "ExecuteTime": {
     "end_time": "2021-03-11T09:44:22.077501Z",
     "start_time": "2021-03-11T09:39:16.473609Z"
    },
    "scrolled": true,
    "tags": []
   },
   "outputs": [],
   "source": [
    "# 训练函数\n",
    "def train(model, train_loader, epoch):\n",
    "    model.train()\n",
    "    total_train_loss = 0\n",
    "    iter_num = 0\n",
    "    total_iter = len(train_loader)\n",
    "    for batch in train_loader:\n",
    "        # 正向传播\n",
    "        optim.zero_grad()\n",
    "\n",
    "        input_ids = batch['input_ids'].to(device)\n",
    "        attention_mask = batch['attention_mask'].to(device)\n",
    "        labels = batch['labels'].to(device)\n",
    "\n",
    "        outputs = model(input_ids, attention_mask=attention_mask, labels=labels)\n",
    "        loss = outputs[0]\n",
    "        total_train_loss += loss.item()\n",
    "\n",
    "        # 反向梯度信息\n",
    "        loss.backward()\n",
    "        torch.nn.utils.clip_grad_norm_(model.parameters(), 1.0)\n",
    "\n",
    "        # 参数更新\n",
    "        optim.step()\n",
    "        # scheduler.step()\n",
    "\n",
    "        iter_num += 1\n",
    "        if(iter_num % 100 == 0):\n",
    "            print(\"epoth: %d, iter_num: %d, loss: %.4f, %.2f%%\" % (epoch, iter_num, loss.item(), iter_num/total_iter*100))\n",
    "\n",
    "    print(\"Epoch: %d, Average training loss: %.4f\" % (epoch, total_train_loss/len(train_loader)))\n",
    "\n",
    "\n",
    "def validation(model, val_dataloader):\n",
    "    model.eval()\n",
    "    total_eval_accuracy = 0\n",
    "    total_eval_loss = 0\n",
    "    for batch in val_dataloader:\n",
    "        with torch.no_grad():\n",
    "            # 正常传播\n",
    "            input_ids = batch['input_ids'].to(device)\n",
    "            attention_mask = batch['attention_mask'].to(device)\n",
    "            labels = batch['labels'].to(device)\n",
    "            outputs = model(input_ids, attention_mask=attention_mask, labels=labels)\n",
    "        loss = outputs[0]\n",
    "        logits = outputs[1]\n",
    "\n",
    "        total_eval_loss += loss.item()\n",
    "        logits = logits.detach().cpu().numpy()\n",
    "        label_ids = labels.to('cpu').numpy()\n",
    "        total_eval_accuracy += flat_accuracy(logits, label_ids)\n",
    "\n",
    "    avg_val_accuracy = total_eval_accuracy / len(val_dataloader)\n",
    "    print(\"Accuracy: %.4f\" % (avg_val_accuracy))\n",
    "    print(\"Average testing loss: %.4f\" % (total_eval_loss/len(val_dataloader)))\n",
    "    print(\"-------------------------------\")"
   ]
  },
  {
   "cell_type": "code",
   "execution_count": 20,
   "metadata": {
    "scrolled": true,
    "tags": []
   },
   "outputs": [
    {
     "name": "stdout",
     "output_type": "stream",
     "text": [
      "[ 2420  2421  2422 ... 12097 12098 12099]\n"
     ]
    },
    {
     "name": "stderr",
     "output_type": "stream",
     "text": [
      "Some weights of BertForSequenceClassification were not initialized from the model checkpoint at /home/lyz/hf-models/hfl/chinese-macbert-base/ and are newly initialized: ['classifier.bias', 'classifier.weight']\n",
      "You should probably TRAIN this model on a down-stream task to be able to use it for predictions and inference.\n",
      "/home/lyz/anaconda3/envs/py311/lib/python3.11/site-packages/transformers/optimization.py:521: FutureWarning: This implementation of AdamW is deprecated and will be removed in a future version. Use the PyTorch implementation torch.optim.AdamW instead, or set `no_deprecation_warning=True` to disable this warning\n",
      "  warnings.warn(\n"
     ]
    },
    {
     "name": "stdout",
     "output_type": "stream",
     "text": [
      "epoth: 0, iter_num: 100, loss: 1.1115, 16.53%\n",
      "epoth: 0, iter_num: 200, loss: 0.2293, 33.06%\n",
      "epoth: 0, iter_num: 300, loss: 0.1624, 49.59%\n",
      "epoth: 0, iter_num: 400, loss: 0.0733, 66.12%\n",
      "epoth: 0, iter_num: 500, loss: 0.6314, 82.64%\n",
      "epoth: 0, iter_num: 600, loss: 0.1678, 99.17%\n",
      "Epoch: 0, Average training loss: 0.6458\n",
      "Accuracy: 0.9524\n",
      "Average testing loss: 0.1868\n",
      "-------------------------------\n",
      "epoth: 1, iter_num: 100, loss: 0.0242, 16.53%\n",
      "epoth: 1, iter_num: 200, loss: 0.0624, 33.06%\n",
      "epoth: 1, iter_num: 300, loss: 0.4115, 49.59%\n",
      "epoth: 1, iter_num: 400, loss: 0.0894, 66.12%\n",
      "epoth: 1, iter_num: 500, loss: 0.0975, 82.64%\n",
      "epoth: 1, iter_num: 600, loss: 0.2471, 99.17%\n",
      "Epoch: 1, Average training loss: 0.2083\n",
      "Accuracy: 0.9661\n",
      "Average testing loss: 0.1270\n",
      "-------------------------------\n",
      "epoth: 2, iter_num: 100, loss: 0.0778, 16.53%\n",
      "epoth: 2, iter_num: 200, loss: 0.1011, 33.06%\n",
      "epoth: 2, iter_num: 300, loss: 0.0053, 49.59%\n",
      "epoth: 2, iter_num: 400, loss: 0.5822, 66.12%\n",
      "epoth: 2, iter_num: 500, loss: 0.0063, 82.64%\n",
      "epoth: 2, iter_num: 600, loss: 0.8266, 99.17%\n",
      "Epoch: 2, Average training loss: 0.1375\n",
      "Accuracy: 0.9852\n",
      "Average testing loss: 0.0582\n",
      "-------------------------------\n",
      "epoth: 3, iter_num: 100, loss: 0.0432, 16.53%\n",
      "epoth: 3, iter_num: 200, loss: 0.0131, 33.06%\n",
      "epoth: 3, iter_num: 300, loss: 0.2373, 49.59%\n",
      "epoth: 3, iter_num: 400, loss: 0.1386, 66.12%\n",
      "epoth: 3, iter_num: 500, loss: 0.0036, 82.64%\n",
      "epoth: 3, iter_num: 600, loss: 0.0022, 99.17%\n",
      "Epoch: 3, Average training loss: 0.0878\n",
      "Accuracy: 0.9904\n",
      "Average testing loss: 0.0405\n",
      "-------------------------------\n",
      "epoth: 4, iter_num: 100, loss: 0.0273, 16.53%\n",
      "epoth: 4, iter_num: 200, loss: 0.0020, 33.06%\n",
      "epoth: 4, iter_num: 300, loss: 0.0026, 49.59%\n",
      "epoth: 4, iter_num: 400, loss: 0.0029, 66.12%\n",
      "epoth: 4, iter_num: 500, loss: 0.0025, 82.64%\n",
      "epoth: 4, iter_num: 600, loss: 0.0029, 99.17%\n",
      "Epoch: 4, Average training loss: 0.0565\n",
      "Accuracy: 0.9951\n",
      "Average testing loss: 0.0178\n",
      "-------------------------------\n",
      "[    0     1     2 ... 12097 12098 12099]\n"
     ]
    },
    {
     "name": "stderr",
     "output_type": "stream",
     "text": [
      "Some weights of BertForSequenceClassification were not initialized from the model checkpoint at /home/lyz/hf-models/hfl/chinese-macbert-base/ and are newly initialized: ['classifier.bias', 'classifier.weight']\n",
      "You should probably TRAIN this model on a down-stream task to be able to use it for predictions and inference.\n"
     ]
    },
    {
     "name": "stdout",
     "output_type": "stream",
     "text": [
      "epoth: 0, iter_num: 100, loss: 1.2580, 16.53%\n",
      "epoth: 0, iter_num: 200, loss: 0.2437, 33.06%\n",
      "epoth: 0, iter_num: 300, loss: 0.3388, 49.59%\n",
      "epoth: 0, iter_num: 400, loss: 0.7418, 66.12%\n",
      "epoth: 0, iter_num: 500, loss: 0.0569, 82.64%\n",
      "epoth: 0, iter_num: 600, loss: 0.2372, 99.17%\n",
      "Epoch: 0, Average training loss: 0.6908\n",
      "Accuracy: 0.9503\n",
      "Average testing loss: 0.1908\n",
      "-------------------------------\n",
      "epoth: 1, iter_num: 100, loss: 0.5731, 16.53%\n",
      "epoth: 1, iter_num: 200, loss: 0.1217, 33.06%\n",
      "epoth: 1, iter_num: 300, loss: 0.0502, 49.59%\n",
      "epoth: 1, iter_num: 400, loss: 0.0521, 66.12%\n",
      "epoth: 1, iter_num: 500, loss: 0.0474, 82.64%\n",
      "epoth: 1, iter_num: 600, loss: 0.1360, 99.17%\n",
      "Epoch: 1, Average training loss: 0.2031\n",
      "Accuracy: 0.9675\n",
      "Average testing loss: 0.1253\n",
      "-------------------------------\n",
      "epoth: 2, iter_num: 100, loss: 0.0552, 16.53%\n",
      "epoth: 2, iter_num: 200, loss: 0.2441, 33.06%\n",
      "epoth: 2, iter_num: 300, loss: 0.0127, 49.59%\n",
      "epoth: 2, iter_num: 400, loss: 0.0183, 66.12%\n",
      "epoth: 2, iter_num: 500, loss: 0.1484, 82.64%\n",
      "epoth: 2, iter_num: 600, loss: 0.0122, 99.17%\n",
      "Epoch: 2, Average training loss: 0.1334\n",
      "Accuracy: 0.9777\n",
      "Average testing loss: 0.0842\n",
      "-------------------------------\n",
      "epoth: 3, iter_num: 100, loss: 0.0069, 16.53%\n",
      "epoth: 3, iter_num: 200, loss: 0.0060, 33.06%\n",
      "epoth: 3, iter_num: 300, loss: 0.0411, 49.59%\n",
      "epoth: 3, iter_num: 400, loss: 0.0383, 66.12%\n",
      "epoth: 3, iter_num: 500, loss: 0.0027, 82.64%\n",
      "epoth: 3, iter_num: 600, loss: 0.1877, 99.17%\n",
      "Epoch: 3, Average training loss: 0.0857\n",
      "Accuracy: 0.9892\n",
      "Average testing loss: 0.0383\n",
      "-------------------------------\n",
      "epoth: 4, iter_num: 100, loss: 0.0025, 16.53%\n",
      "epoth: 4, iter_num: 200, loss: 0.0045, 33.06%\n",
      "epoth: 4, iter_num: 300, loss: 0.0050, 49.59%\n",
      "epoth: 4, iter_num: 400, loss: 0.0016, 66.12%\n",
      "epoth: 4, iter_num: 500, loss: 0.0020, 82.64%\n",
      "epoth: 4, iter_num: 600, loss: 0.0068, 99.17%\n",
      "Epoch: 4, Average training loss: 0.0542\n",
      "Accuracy: 0.9938\n",
      "Average testing loss: 0.0269\n",
      "-------------------------------\n",
      "[    0     1     2 ... 12097 12098 12099]\n"
     ]
    },
    {
     "name": "stderr",
     "output_type": "stream",
     "text": [
      "Some weights of BertForSequenceClassification were not initialized from the model checkpoint at /home/lyz/hf-models/hfl/chinese-macbert-base/ and are newly initialized: ['classifier.bias', 'classifier.weight']\n",
      "You should probably TRAIN this model on a down-stream task to be able to use it for predictions and inference.\n"
     ]
    },
    {
     "name": "stdout",
     "output_type": "stream",
     "text": [
      "epoth: 0, iter_num: 100, loss: 1.3035, 16.53%\n",
      "epoth: 0, iter_num: 200, loss: 0.3220, 33.06%\n",
      "epoth: 0, iter_num: 300, loss: 0.3904, 49.59%\n",
      "epoth: 0, iter_num: 400, loss: 0.1374, 66.12%\n",
      "epoth: 0, iter_num: 500, loss: 0.2440, 82.64%\n",
      "epoth: 0, iter_num: 600, loss: 0.5004, 99.17%\n",
      "Epoch: 0, Average training loss: 0.6785\n",
      "Accuracy: 0.9463\n",
      "Average testing loss: 0.1950\n",
      "-------------------------------\n",
      "epoth: 1, iter_num: 100, loss: 0.0323, 16.53%\n",
      "epoth: 1, iter_num: 200, loss: 0.2680, 33.06%\n",
      "epoth: 1, iter_num: 300, loss: 0.4692, 49.59%\n",
      "epoth: 1, iter_num: 400, loss: 0.0191, 66.12%\n",
      "epoth: 1, iter_num: 500, loss: 0.0557, 82.64%\n",
      "epoth: 1, iter_num: 600, loss: 0.0096, 99.17%\n",
      "Epoch: 1, Average training loss: 0.2086\n",
      "Accuracy: 0.9721\n",
      "Average testing loss: 0.1015\n",
      "-------------------------------\n",
      "epoth: 2, iter_num: 100, loss: 0.0647, 16.53%\n",
      "epoth: 2, iter_num: 200, loss: 0.2366, 33.06%\n",
      "epoth: 2, iter_num: 300, loss: 0.0160, 49.59%\n",
      "epoth: 2, iter_num: 400, loss: 0.0092, 66.12%\n",
      "epoth: 2, iter_num: 500, loss: 0.0048, 82.64%\n",
      "epoth: 2, iter_num: 600, loss: 0.0259, 99.17%\n",
      "Epoch: 2, Average training loss: 0.1274\n",
      "Accuracy: 0.9846\n",
      "Average testing loss: 0.0606\n",
      "-------------------------------\n",
      "epoth: 3, iter_num: 100, loss: 0.0442, 16.53%\n",
      "epoth: 3, iter_num: 200, loss: 0.0304, 33.06%\n",
      "epoth: 3, iter_num: 300, loss: 0.0094, 49.59%\n",
      "epoth: 3, iter_num: 400, loss: 0.0432, 66.12%\n",
      "epoth: 3, iter_num: 500, loss: 0.0079, 82.64%\n",
      "epoth: 3, iter_num: 600, loss: 0.1173, 99.17%\n",
      "Epoch: 3, Average training loss: 0.0803\n",
      "Accuracy: 0.9901\n",
      "Average testing loss: 0.0369\n",
      "-------------------------------\n",
      "epoth: 4, iter_num: 100, loss: 0.0047, 16.53%\n",
      "epoth: 4, iter_num: 200, loss: 0.0023, 33.06%\n",
      "epoth: 4, iter_num: 300, loss: 0.0066, 49.59%\n",
      "epoth: 4, iter_num: 400, loss: 0.0019, 66.12%\n",
      "epoth: 4, iter_num: 500, loss: 0.0873, 82.64%\n",
      "epoth: 4, iter_num: 600, loss: 0.0015, 99.17%\n",
      "Epoch: 4, Average training loss: 0.0468\n",
      "Accuracy: 0.9957\n",
      "Average testing loss: 0.0168\n",
      "-------------------------------\n",
      "[    0     1     2 ... 12097 12098 12099]\n"
     ]
    },
    {
     "name": "stderr",
     "output_type": "stream",
     "text": [
      "Some weights of BertForSequenceClassification were not initialized from the model checkpoint at /home/lyz/hf-models/hfl/chinese-macbert-base/ and are newly initialized: ['classifier.bias', 'classifier.weight']\n",
      "You should probably TRAIN this model on a down-stream task to be able to use it for predictions and inference.\n"
     ]
    },
    {
     "name": "stdout",
     "output_type": "stream",
     "text": [
      "epoth: 0, iter_num: 100, loss: 1.1786, 16.53%\n",
      "epoth: 0, iter_num: 200, loss: 0.5009, 33.06%\n",
      "epoth: 0, iter_num: 300, loss: 0.4799, 49.59%\n",
      "epoth: 0, iter_num: 400, loss: 0.4326, 66.12%\n",
      "epoth: 0, iter_num: 500, loss: 0.0712, 82.64%\n",
      "epoth: 0, iter_num: 600, loss: 0.3000, 99.17%\n",
      "Epoch: 0, Average training loss: 0.6369\n",
      "Accuracy: 0.9506\n",
      "Average testing loss: 0.1808\n",
      "-------------------------------\n",
      "epoth: 1, iter_num: 100, loss: 0.2272, 16.53%\n",
      "epoth: 1, iter_num: 200, loss: 0.2808, 33.06%\n",
      "epoth: 1, iter_num: 300, loss: 0.0485, 49.59%\n",
      "epoth: 1, iter_num: 400, loss: 0.5745, 66.12%\n",
      "epoth: 1, iter_num: 500, loss: 0.3021, 82.64%\n",
      "epoth: 1, iter_num: 600, loss: 0.0438, 99.17%\n",
      "Epoch: 1, Average training loss: 0.1879\n",
      "Accuracy: 0.9719\n",
      "Average testing loss: 0.1077\n",
      "-------------------------------\n",
      "epoth: 2, iter_num: 100, loss: 0.1408, 16.53%\n",
      "epoth: 2, iter_num: 200, loss: 0.0121, 33.06%\n",
      "epoth: 2, iter_num: 300, loss: 0.0064, 49.59%\n",
      "epoth: 2, iter_num: 400, loss: 0.1176, 66.12%\n",
      "epoth: 2, iter_num: 500, loss: 0.0208, 82.64%\n",
      "epoth: 2, iter_num: 600, loss: 0.0102, 99.17%\n",
      "Epoch: 2, Average training loss: 0.1184\n",
      "Accuracy: 0.9854\n",
      "Average testing loss: 0.0577\n",
      "-------------------------------\n",
      "epoth: 3, iter_num: 100, loss: 0.0032, 16.53%\n",
      "epoth: 3, iter_num: 200, loss: 0.0036, 33.06%\n",
      "epoth: 3, iter_num: 300, loss: 0.0044, 49.59%\n",
      "epoth: 3, iter_num: 400, loss: 0.0136, 66.12%\n",
      "epoth: 3, iter_num: 500, loss: 0.0065, 82.64%\n",
      "epoth: 3, iter_num: 600, loss: 0.0035, 99.17%\n",
      "Epoch: 3, Average training loss: 0.0740\n",
      "Accuracy: 0.9917\n",
      "Average testing loss: 0.0376\n",
      "-------------------------------\n",
      "epoth: 4, iter_num: 100, loss: 0.0053, 16.53%\n",
      "epoth: 4, iter_num: 200, loss: 0.0031, 33.06%\n",
      "epoth: 4, iter_num: 300, loss: 0.1163, 49.59%\n",
      "epoth: 4, iter_num: 400, loss: 0.0035, 66.12%\n",
      "epoth: 4, iter_num: 500, loss: 0.0015, 82.64%\n",
      "epoth: 4, iter_num: 600, loss: 0.3384, 99.17%\n",
      "Epoch: 4, Average training loss: 0.0496\n",
      "Accuracy: 0.9938\n",
      "Average testing loss: 0.0262\n",
      "-------------------------------\n",
      "[   0    1    2 ... 9677 9678 9679]\n"
     ]
    },
    {
     "name": "stderr",
     "output_type": "stream",
     "text": [
      "Some weights of BertForSequenceClassification were not initialized from the model checkpoint at /home/lyz/hf-models/hfl/chinese-macbert-base/ and are newly initialized: ['classifier.bias', 'classifier.weight']\n",
      "You should probably TRAIN this model on a down-stream task to be able to use it for predictions and inference.\n"
     ]
    },
    {
     "name": "stdout",
     "output_type": "stream",
     "text": [
      "epoth: 0, iter_num: 100, loss: 0.9187, 16.53%\n",
      "epoth: 0, iter_num: 200, loss: 0.3077, 33.06%\n",
      "epoth: 0, iter_num: 300, loss: 0.6920, 49.59%\n",
      "epoth: 0, iter_num: 400, loss: 0.3029, 66.12%\n",
      "epoth: 0, iter_num: 500, loss: 0.2119, 82.64%\n",
      "epoth: 0, iter_num: 600, loss: 0.0177, 99.17%\n",
      "Epoch: 0, Average training loss: 0.4768\n",
      "Accuracy: 0.9741\n",
      "Average testing loss: 0.1047\n",
      "-------------------------------\n",
      "epoth: 1, iter_num: 100, loss: 0.4461, 16.53%\n",
      "epoth: 1, iter_num: 200, loss: 0.0104, 33.06%\n",
      "epoth: 1, iter_num: 300, loss: 0.1575, 49.59%\n",
      "epoth: 1, iter_num: 400, loss: 0.0065, 66.12%\n",
      "epoth: 1, iter_num: 500, loss: 0.2315, 82.64%\n",
      "epoth: 1, iter_num: 600, loss: 0.0046, 99.17%\n",
      "Epoch: 1, Average training loss: 0.1033\n",
      "Accuracy: 0.9867\n",
      "Average testing loss: 0.0517\n",
      "-------------------------------\n",
      "epoth: 2, iter_num: 100, loss: 0.0052, 16.53%\n",
      "epoth: 2, iter_num: 200, loss: 0.0036, 33.06%\n",
      "epoth: 2, iter_num: 300, loss: 0.0172, 49.59%\n",
      "epoth: 2, iter_num: 400, loss: 0.5190, 66.12%\n",
      "epoth: 2, iter_num: 500, loss: 0.0063, 82.64%\n",
      "epoth: 2, iter_num: 600, loss: 0.0040, 99.17%\n",
      "Epoch: 2, Average training loss: 0.0551\n",
      "Accuracy: 0.9955\n",
      "Average testing loss: 0.0202\n",
      "-------------------------------\n",
      "epoth: 3, iter_num: 100, loss: 0.0024, 16.53%\n",
      "epoth: 3, iter_num: 200, loss: 0.0018, 33.06%\n",
      "epoth: 3, iter_num: 300, loss: 0.0018, 49.59%\n",
      "epoth: 3, iter_num: 400, loss: 0.0018, 66.12%\n",
      "epoth: 3, iter_num: 500, loss: 0.0244, 82.64%\n",
      "epoth: 3, iter_num: 600, loss: 0.0011, 99.17%\n",
      "Epoch: 3, Average training loss: 0.0304\n",
      "Accuracy: 0.9980\n",
      "Average testing loss: 0.0110\n",
      "-------------------------------\n",
      "epoth: 4, iter_num: 100, loss: 0.1968, 16.53%\n",
      "epoth: 4, iter_num: 200, loss: 0.0012, 33.06%\n",
      "epoth: 4, iter_num: 300, loss: 0.0015, 49.59%\n",
      "epoth: 4, iter_num: 400, loss: 0.0023, 66.12%\n",
      "epoth: 4, iter_num: 500, loss: 0.0010, 82.64%\n",
      "epoth: 4, iter_num: 600, loss: 0.0009, 99.17%\n",
      "Epoch: 4, Average training loss: 0.0229\n",
      "Accuracy: 0.9973\n",
      "Average testing loss: 0.0138\n",
      "-------------------------------\n"
     ]
    }
   ],
   "source": [
    "from sklearn.model_selection import KFold\n",
    "\n",
    "kf = KFold(n_splits=5)\n",
    "\n",
    "fold = 0\n",
    "for train_idx, val_idx in kf.split(train_data[0].values, train_data[1].values,):\n",
    "    print(train_idx)\n",
    "    train_text = train_data[0].iloc[train_idx]\n",
    "    val_text = train_data[0].iloc[train_idx]\n",
    "\n",
    "    train_label = train_data[1].iloc[train_idx].values\n",
    "    val_label = train_data[1].iloc[train_idx].values\n",
    "\n",
    "    train_encoding = tokenizer(list(train_text), truncation=True, padding=True, max_length=30)\n",
    "    val_encoding = tokenizer(list(val_text), truncation=True, padding=True, max_length=30)\n",
    "\n",
    "    # 默认是没有数据扩增，文本默认是没有变换的操作\n",
    "    train_dataset = NewsDataset(train_encoding, train_label)\n",
    "    val_dataset = NewsDataset(val_encoding, val_label)\n",
    "\n",
    "    train_loader = DataLoader(train_dataset, batch_size=16, shuffle=True)\n",
    "    val_dataloader = DataLoader(val_dataset, batch_size=16, shuffle=True)\n",
    "\n",
    "    # 加载每折的模型\n",
    "    model = AutoModelForSequenceClassification.from_pretrained('/home/lyz/hf-models/hfl/chinese-macbert-base/', num_labels=12)\n",
    "    device = torch.device(\"cuda\" if torch.cuda.is_available() else \"cpu\")\n",
    "    model.to(device)\n",
    "\n",
    "    # 优化方法\n",
    "    optim = AdamW(model.parameters(), lr=1e-5)\n",
    "    total_steps = len(train_loader) * 1\n",
    "    scheduler = get_linear_schedule_with_warmup(optim,\n",
    "                                                num_warmup_steps=0,  # Default value in run_glue.py\n",
    "                                                num_training_steps=total_steps)\n",
    "\n",
    "    for epoch in range(5):\n",
    "        train(model, train_loader, epoch)\n",
    "        validation(model, val_dataloader)\n",
    "\n",
    "    torch.save(model.state_dict(), 'model_' + str(fold) + '.pt')\n",
    "\n",
    "    fold += 1"
   ]
  },
  {
   "cell_type": "code",
   "execution_count": 21,
   "metadata": {
    "tags": []
   },
   "outputs": [],
   "source": [
    "test_encoding = tokenizer(list(test_data[0]), truncation=True, padding=True, max_length=30)\n",
    "test_dataset = NewsDataset(test_encoding, [0] * len(test_data))\n",
    "test_dataloader = DataLoader(test_dataset, batch_size=16, shuffle=False)\n",
    "\n",
    "def prediction(model, test_dataloader):\n",
    "    model.eval()\n",
    "    pred = []\n",
    "    for batch in test_dataloader:\n",
    "        with torch.no_grad():\n",
    "            # 正常传播\n",
    "            input_ids = batch['input_ids'].to(device)\n",
    "            attention_mask = batch['attention_mask'].to(device)\n",
    "            labels = batch['labels'].to(device)\n",
    "            outputs = model(input_ids, attention_mask=attention_mask, labels=labels)\n",
    "        loss = outputs[0]\n",
    "        logits = outputs[1]\n",
    "\n",
    "        logits = logits.detach().cpu().numpy()\n",
    "        pred.append(logits)\n",
    "        # pred += list(np.argmax(logits, axis=1).flatten())\n",
    "\n",
    "    return np.vstack(pred)"
   ]
  },
  {
   "cell_type": "code",
   "execution_count": 22,
   "metadata": {
    "tags": []
   },
   "outputs": [],
   "source": [
    "pred = np.zeros((3000, 12))\n",
    "for path in ['model_0.pt', 'model_1.pt', 'model_2.pt', 'model_3.pt', 'model_4.pt']:\n",
    "    # model = AutoModelForSequenceClassification.from_pretrained('/home/lyz/huggingface模型下载/hfl/chinese-macbert-large/', num_labels=12)\n",
    "    # device = torch.device(\"cuda\" if torch.cuda.is_available() else \"cpu\")\n",
    "    # model.to(device)\n",
    "    model.load_state_dict(torch.load(path))\n",
    "    pred += prediction(model, test_dataloader)"
   ]
  },
  {
   "cell_type": "code",
   "execution_count": 23,
   "metadata": {
    "tags": []
   },
   "outputs": [],
   "source": [
    "pd.DataFrame({\n",
    "    'ID': range(1, len(test_data) + 1),\n",
    "    'Target': [lbl[x] for x in pred.argmax(1)],\n",
    "}).to_csv('nlp_submit.csv', index=None)"
   ]
  },
  {
   "cell_type": "code",
   "execution_count": null,
   "metadata": {},
   "outputs": [],
   "source": []
  }
 ],
 "metadata": {
  "kernelspec": {
   "display_name": "py3.11",
   "language": "python",
   "name": "py3.11"
  },
  "language_info": {
   "codemirror_mode": {
    "name": "ipython",
    "version": 3
   },
   "file_extension": ".py",
   "mimetype": "text/x-python",
   "name": "python",
   "nbconvert_exporter": "python",
   "pygments_lexer": "ipython3",
   "version": "3.11.8"
  },
  "toc": {
   "base_numbering": 1,
   "nav_menu": {},
   "number_sections": true,
   "sideBar": true,
   "skip_h1_title": false,
   "title_cell": "Table of Contents",
   "title_sidebar": "Contents",
   "toc_cell": false,
   "toc_position": {},
   "toc_section_display": true,
   "toc_window_display": false
  },
  "widgets": {
   "application/vnd.jupyter.widget-state+json": {
    "state": {},
    "version_major": 2,
    "version_minor": 0
   }
  }
 },
 "nbformat": 4,
 "nbformat_minor": 4
}
